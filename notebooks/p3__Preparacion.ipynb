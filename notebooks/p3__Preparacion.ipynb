{
 "cells": [
  {
   "cell_type": "code",
   "execution_count": 1,
   "metadata": {
    "collapsed": true,
    "ExecuteTime": {
     "end_time": "2023-06-13T03:54:57.183498228Z",
     "start_time": "2023-06-13T03:54:56.943572622Z"
    }
   },
   "outputs": [],
   "source": [
    "import pandas as pd\n",
    "import pickle"
   ]
  },
  {
   "cell_type": "code",
   "execution_count": 2,
   "outputs": [],
   "source": [
    "data = pd.read_csv(\"../data/customer_dataset.csv\", sep=',')"
   ],
   "metadata": {
    "collapsed": false,
    "ExecuteTime": {
     "end_time": "2023-06-13T03:54:57.212889580Z",
     "start_time": "2023-06-13T03:54:57.180767125Z"
    }
   }
  },
  {
   "cell_type": "markdown",
   "source": [
    "## 1 Puntos de corte"
   ],
   "metadata": {
    "collapsed": false
   }
  },
  {
   "cell_type": "code",
   "execution_count": 3,
   "outputs": [],
   "source": [
    "probando = data.copy()"
   ],
   "metadata": {
    "collapsed": false,
    "ExecuteTime": {
     "end_time": "2023-06-13T03:54:57.213275097Z",
     "start_time": "2023-06-13T03:54:57.195035150Z"
    }
   }
  },
  {
   "cell_type": "code",
   "execution_count": 4,
   "outputs": [],
   "source": [
    "data['orderAmount'], saved_bins_order = pd.qcut(data['orderAmount'], q=5, duplicates='drop', retbins=True)"
   ],
   "metadata": {
    "collapsed": false,
    "ExecuteTime": {
     "end_time": "2023-06-13T03:54:57.255207897Z",
     "start_time": "2023-06-13T03:54:57.200630306Z"
    }
   }
  },
  {
   "cell_type": "code",
   "execution_count": 5,
   "outputs": [],
   "source": [
    "with open('../data/saved_bins_order.pickle', 'wb') as handle:\n",
    "  pickle.dump(saved_bins_order, handle, protocol=pickle.HIGHEST_PROTOCOL)"
   ],
   "metadata": {
    "collapsed": false,
    "ExecuteTime": {
     "end_time": "2023-06-13T03:54:57.256056050Z",
     "start_time": "2023-06-13T03:54:57.210164172Z"
    }
   }
  },
  {
   "cell_type": "code",
   "execution_count": 6,
   "outputs": [],
   "source": [
    "data['transactionAmount'], saved_bins_transaction = pd.qcut(data['transactionAmount'], q=4, duplicates='drop', retbins=True)\n",
    "with open('../data/saved_bins_transaction.pickle', 'wb') as handle:\n",
    "  pickle.dump(saved_bins_transaction, handle, protocol=pickle.HIGHEST_PROTOCOL)"
   ],
   "metadata": {
    "collapsed": false,
    "ExecuteTime": {
     "end_time": "2023-06-13T03:54:57.256334536Z",
     "start_time": "2023-06-13T03:54:57.250590447Z"
    }
   }
  },
  {
   "cell_type": "code",
   "execution_count": 7,
   "outputs": [],
   "source": [
    "with open('../data/saved_bins_order.pickle', 'rb') as handle:\n",
    "    new_saved_bins_order = pickle.load(handle)\n",
    "with open('../data/saved_bins_transaction.pickle', 'rb') as handle:\n",
    "    new_saved_bins_transaction = pickle.load(handle)"
   ],
   "metadata": {
    "collapsed": false,
    "ExecuteTime": {
     "end_time": "2023-06-13T03:54:57.256554826Z",
     "start_time": "2023-06-13T03:54:57.250841616Z"
    }
   }
  },
  {
   "cell_type": "code",
   "execution_count": 8,
   "outputs": [],
   "source": [
    "probando[\"orderAmount\"] = pd.cut(\n",
    "    probando['orderAmount'],\n",
    "    bins=new_saved_bins_order,\n",
    "    include_lowest=True) # importante para que coincidan todos"
   ],
   "metadata": {
    "collapsed": false,
    "ExecuteTime": {
     "end_time": "2023-06-13T03:54:57.256763181Z",
     "start_time": "2023-06-13T03:54:57.250992862Z"
    }
   }
  },
  {
   "cell_type": "code",
   "execution_count": 9,
   "outputs": [
    {
     "data": {
      "text/plain": "     orderAmount orderState paymentMethodRegistrationFailure  \\\n0  (9.999, 18.4]    pending                             True   \n1   (18.4, 30.0]  fulfilled                             True   \n2   (39.0, 47.0]  fulfilled                            False   \n\n  paymentMethodType paymentMethodProvider   paymentMethodIssuer  \\\n0              card          JCB 16 digit  Citizens First Banks   \n1           bitcoin         VISA 16 digit          Solace Banks   \n2              card         VISA 16 digit        Vertex Bancorp   \n\n   transactionAmount  transactionFailed fraudulent emailProvider emailDomain  \\\n0                 18              False      False         yahoo         com   \n1                 26              False       True         yahoo         com   \n2                 45              False      False         yahoo         com   \n\n   customerIPAddressVersion sameCity  \n0                       4.0      yes  \n1                       4.0       no  \n2                       6.0       no  ",
      "text/html": "<div>\n<style scoped>\n    .dataframe tbody tr th:only-of-type {\n        vertical-align: middle;\n    }\n\n    .dataframe tbody tr th {\n        vertical-align: top;\n    }\n\n    .dataframe thead th {\n        text-align: right;\n    }\n</style>\n<table border=\"1\" class=\"dataframe\">\n  <thead>\n    <tr style=\"text-align: right;\">\n      <th></th>\n      <th>orderAmount</th>\n      <th>orderState</th>\n      <th>paymentMethodRegistrationFailure</th>\n      <th>paymentMethodType</th>\n      <th>paymentMethodProvider</th>\n      <th>paymentMethodIssuer</th>\n      <th>transactionAmount</th>\n      <th>transactionFailed</th>\n      <th>fraudulent</th>\n      <th>emailProvider</th>\n      <th>emailDomain</th>\n      <th>customerIPAddressVersion</th>\n      <th>sameCity</th>\n    </tr>\n  </thead>\n  <tbody>\n    <tr>\n      <th>0</th>\n      <td>(9.999, 18.4]</td>\n      <td>pending</td>\n      <td>True</td>\n      <td>card</td>\n      <td>JCB 16 digit</td>\n      <td>Citizens First Banks</td>\n      <td>18</td>\n      <td>False</td>\n      <td>False</td>\n      <td>yahoo</td>\n      <td>com</td>\n      <td>4.0</td>\n      <td>yes</td>\n    </tr>\n    <tr>\n      <th>1</th>\n      <td>(18.4, 30.0]</td>\n      <td>fulfilled</td>\n      <td>True</td>\n      <td>bitcoin</td>\n      <td>VISA 16 digit</td>\n      <td>Solace Banks</td>\n      <td>26</td>\n      <td>False</td>\n      <td>True</td>\n      <td>yahoo</td>\n      <td>com</td>\n      <td>4.0</td>\n      <td>no</td>\n    </tr>\n    <tr>\n      <th>2</th>\n      <td>(39.0, 47.0]</td>\n      <td>fulfilled</td>\n      <td>False</td>\n      <td>card</td>\n      <td>VISA 16 digit</td>\n      <td>Vertex Bancorp</td>\n      <td>45</td>\n      <td>False</td>\n      <td>False</td>\n      <td>yahoo</td>\n      <td>com</td>\n      <td>6.0</td>\n      <td>no</td>\n    </tr>\n  </tbody>\n</table>\n</div>"
     },
     "execution_count": 9,
     "metadata": {},
     "output_type": "execute_result"
    }
   ],
   "source": [
    "probando.head(3)"
   ],
   "metadata": {
    "collapsed": false,
    "ExecuteTime": {
     "end_time": "2023-06-13T03:54:57.356438565Z",
     "start_time": "2023-06-13T03:54:57.251213740Z"
    }
   }
  },
  {
   "cell_type": "code",
   "execution_count": 10,
   "outputs": [
    {
     "data": {
      "text/plain": "     orderAmount orderState paymentMethodRegistrationFailure  \\\n0  (9.999, 18.4]    pending                             True   \n1   (18.4, 30.0]  fulfilled                             True   \n2   (39.0, 47.0]  fulfilled                            False   \n\n  paymentMethodType paymentMethodProvider   paymentMethodIssuer  \\\n0              card          JCB 16 digit  Citizens First Banks   \n1           bitcoin         VISA 16 digit          Solace Banks   \n2              card         VISA 16 digit        Vertex Bancorp   \n\n  transactionAmount  transactionFailed fraudulent emailProvider emailDomain  \\\n0     (9.999, 21.0]              False      False         yahoo         com   \n1      (21.0, 34.0]              False       True         yahoo         com   \n2      (34.0, 45.0]              False      False         yahoo         com   \n\n   customerIPAddressVersion sameCity  \n0                       4.0      yes  \n1                       4.0       no  \n2                       6.0       no  ",
      "text/html": "<div>\n<style scoped>\n    .dataframe tbody tr th:only-of-type {\n        vertical-align: middle;\n    }\n\n    .dataframe tbody tr th {\n        vertical-align: top;\n    }\n\n    .dataframe thead th {\n        text-align: right;\n    }\n</style>\n<table border=\"1\" class=\"dataframe\">\n  <thead>\n    <tr style=\"text-align: right;\">\n      <th></th>\n      <th>orderAmount</th>\n      <th>orderState</th>\n      <th>paymentMethodRegistrationFailure</th>\n      <th>paymentMethodType</th>\n      <th>paymentMethodProvider</th>\n      <th>paymentMethodIssuer</th>\n      <th>transactionAmount</th>\n      <th>transactionFailed</th>\n      <th>fraudulent</th>\n      <th>emailProvider</th>\n      <th>emailDomain</th>\n      <th>customerIPAddressVersion</th>\n      <th>sameCity</th>\n    </tr>\n  </thead>\n  <tbody>\n    <tr>\n      <th>0</th>\n      <td>(9.999, 18.4]</td>\n      <td>pending</td>\n      <td>True</td>\n      <td>card</td>\n      <td>JCB 16 digit</td>\n      <td>Citizens First Banks</td>\n      <td>(9.999, 21.0]</td>\n      <td>False</td>\n      <td>False</td>\n      <td>yahoo</td>\n      <td>com</td>\n      <td>4.0</td>\n      <td>yes</td>\n    </tr>\n    <tr>\n      <th>1</th>\n      <td>(18.4, 30.0]</td>\n      <td>fulfilled</td>\n      <td>True</td>\n      <td>bitcoin</td>\n      <td>VISA 16 digit</td>\n      <td>Solace Banks</td>\n      <td>(21.0, 34.0]</td>\n      <td>False</td>\n      <td>True</td>\n      <td>yahoo</td>\n      <td>com</td>\n      <td>4.0</td>\n      <td>no</td>\n    </tr>\n    <tr>\n      <th>2</th>\n      <td>(39.0, 47.0]</td>\n      <td>fulfilled</td>\n      <td>False</td>\n      <td>card</td>\n      <td>VISA 16 digit</td>\n      <td>Vertex Bancorp</td>\n      <td>(34.0, 45.0]</td>\n      <td>False</td>\n      <td>False</td>\n      <td>yahoo</td>\n      <td>com</td>\n      <td>6.0</td>\n      <td>no</td>\n    </tr>\n  </tbody>\n</table>\n</div>"
     },
     "execution_count": 10,
     "metadata": {},
     "output_type": "execute_result"
    }
   ],
   "source": [
    "data.head(3)"
   ],
   "metadata": {
    "collapsed": false,
    "ExecuteTime": {
     "end_time": "2023-06-13T03:54:57.357190178Z",
     "start_time": "2023-06-13T03:54:57.291620830Z"
    }
   }
  },
  {
   "cell_type": "markdown",
   "source": [
    "## 2. Preparación de los datos"
   ],
   "metadata": {
    "collapsed": false
   }
  },
  {
   "cell_type": "code",
   "execution_count": 11,
   "outputs": [
    {
     "data": {
      "text/plain": "Her Majesty Trust           43\nVertex Bancorp              37\nFountain Financial Inc.     35\nHis Majesty Bank Corp.      33\nBastion Banks               29\nBulwark Trust Corp.         29\nCitizens First Banks        28\nGrand Credit Corporation    27\nSolace Banks                27\nRose Bancshares             25\nB                            7\ne                            5\nc                            4\nr                            3\n                             2\nn                            2\nx                            2\no                            2\na                            1\np                            1\nName: paymentMethodIssuer, dtype: int64"
     },
     "execution_count": 11,
     "metadata": {},
     "output_type": "execute_result"
    }
   ],
   "source": [
    "data['paymentMethodIssuer'].value_counts()"
   ],
   "metadata": {
    "collapsed": false,
    "ExecuteTime": {
     "end_time": "2023-06-13T03:54:57.357608684Z",
     "start_time": "2023-06-13T03:54:57.291998221Z"
    }
   }
  },
  {
   "cell_type": "code",
   "execution_count": 12,
   "outputs": [],
   "source": [
    "# Reemplazar un valor a la vez\n",
    "weird_payment_method = [\"B\", \"e\", \"c\", \"r\", \" \", \"n\", \"x\", \"o\", \"a\", \"p\"]\n",
    "\n",
    "for payment_method in weird_payment_method:\n",
    "    data['paymentMethodIssuer'] = data['paymentMethodIssuer'].replace(payment_method, 'weird')"
   ],
   "metadata": {
    "collapsed": false,
    "ExecuteTime": {
     "end_time": "2023-06-13T03:54:57.358033897Z",
     "start_time": "2023-06-13T03:54:57.300290692Z"
    }
   }
  },
  {
   "cell_type": "code",
   "execution_count": 13,
   "outputs": [
    {
     "data": {
      "text/plain": "Her Majesty Trust           43\nVertex Bancorp              37\nFountain Financial Inc.     35\nHis Majesty Bank Corp.      33\nBastion Banks               29\nweird                       29\nBulwark Trust Corp.         29\nCitizens First Banks        28\nSolace Banks                27\nGrand Credit Corporation    27\nRose Bancshares             25\nName: paymentMethodIssuer, dtype: int64"
     },
     "execution_count": 13,
     "metadata": {},
     "output_type": "execute_result"
    }
   ],
   "source": [
    "data['paymentMethodIssuer'].value_counts()"
   ],
   "metadata": {
    "collapsed": false,
    "ExecuteTime": {
     "end_time": "2023-06-13T03:54:57.358432400Z",
     "start_time": "2023-06-13T03:54:57.340665602Z"
    }
   }
  },
  {
   "cell_type": "code",
   "execution_count": 14,
   "outputs": [
    {
     "data": {
      "text/plain": "JCB 16 digit                   65\nVISA 16 digit                  57\nVoyager                        36\nDiners Club / Carte Blanche    34\nMaestro                        32\nVISA 13 digit                  32\nDiscover                       25\nAmerican Express               22\nJCB 15 digit                   20\nMastercard                     19\nName: paymentMethodProvider, dtype: int64"
     },
     "execution_count": 14,
     "metadata": {},
     "output_type": "execute_result"
    }
   ],
   "source": [
    "data['paymentMethodProvider'].value_counts()"
   ],
   "metadata": {
    "collapsed": false,
    "ExecuteTime": {
     "end_time": "2023-06-13T03:54:57.358734761Z",
     "start_time": "2023-06-13T03:54:57.340898729Z"
    }
   }
  },
  {
   "cell_type": "code",
   "execution_count": 15,
   "outputs": [
    {
     "data": {
      "text/plain": "card         242\napple pay     36\npaypal        36\nbitcoin       28\nName: paymentMethodType, dtype: int64"
     },
     "execution_count": 15,
     "metadata": {},
     "output_type": "execute_result"
    }
   ],
   "source": [
    "data['paymentMethodType'].value_counts()"
   ],
   "metadata": {
    "collapsed": false,
    "ExecuteTime": {
     "end_time": "2023-06-13T03:54:57.359027491Z",
     "start_time": "2023-06-13T03:54:57.341054071Z"
    }
   }
  },
  {
   "cell_type": "code",
   "execution_count": 16,
   "outputs": [],
   "source": [
    "data['fraudulent']=data['fraudulent'].fillna(value=\"warning\")"
   ],
   "metadata": {
    "collapsed": false,
    "ExecuteTime": {
     "end_time": "2023-06-13T03:54:57.359244191Z",
     "start_time": "2023-06-13T03:54:57.341218621Z"
    }
   }
  },
  {
   "cell_type": "code",
   "execution_count": 17,
   "outputs": [
    {
     "data": {
      "text/plain": "warning    455\nFalse      107\nTrue        61\nName: fraudulent, dtype: int64"
     },
     "execution_count": 17,
     "metadata": {},
     "output_type": "execute_result"
    }
   ],
   "source": [
    "data[\"fraudulent\"].value_counts()"
   ],
   "metadata": {
    "collapsed": false,
    "ExecuteTime": {
     "end_time": "2023-06-13T03:54:57.359672870Z",
     "start_time": "2023-06-13T03:54:57.341342548Z"
    }
   }
  },
  {
   "cell_type": "code",
   "execution_count": 18,
   "outputs": [],
   "source": [
    "data['fraudulent']=data['fraudulent'].astype(str)"
   ],
   "metadata": {
    "collapsed": false,
    "ExecuteTime": {
     "end_time": "2023-06-13T03:54:57.359887384Z",
     "start_time": "2023-06-13T03:54:57.341570510Z"
    }
   }
  },
  {
   "cell_type": "code",
   "execution_count": 19,
   "outputs": [],
   "source": [
    "class_map = {'False': 0, 'True': 1, 'warning': 2}\n",
    "data['fraudulent'] = data['fraudulent'].map(class_map)"
   ],
   "metadata": {
    "collapsed": false,
    "ExecuteTime": {
     "end_time": "2023-06-13T03:54:57.486073563Z",
     "start_time": "2023-06-13T03:54:57.382494813Z"
    }
   }
  },
  {
   "cell_type": "code",
   "execution_count": 20,
   "outputs": [
    {
     "data": {
      "text/plain": "     orderAmount orderState paymentMethodRegistrationFailure  \\\n0  (9.999, 18.4]    pending                             True   \n1   (18.4, 30.0]  fulfilled                             True   \n2   (39.0, 47.0]  fulfilled                            False   \n\n  paymentMethodType paymentMethodProvider   paymentMethodIssuer  \\\n0              card          JCB 16 digit  Citizens First Banks   \n1           bitcoin         VISA 16 digit          Solace Banks   \n2              card         VISA 16 digit        Vertex Bancorp   \n\n  transactionAmount  transactionFailed  fraudulent emailProvider emailDomain  \\\n0     (9.999, 21.0]              False           0         yahoo         com   \n1      (21.0, 34.0]              False           1         yahoo         com   \n2      (34.0, 45.0]              False           0         yahoo         com   \n\n   customerIPAddressVersion sameCity  \n0                       4.0      yes  \n1                       4.0       no  \n2                       6.0       no  ",
      "text/html": "<div>\n<style scoped>\n    .dataframe tbody tr th:only-of-type {\n        vertical-align: middle;\n    }\n\n    .dataframe tbody tr th {\n        vertical-align: top;\n    }\n\n    .dataframe thead th {\n        text-align: right;\n    }\n</style>\n<table border=\"1\" class=\"dataframe\">\n  <thead>\n    <tr style=\"text-align: right;\">\n      <th></th>\n      <th>orderAmount</th>\n      <th>orderState</th>\n      <th>paymentMethodRegistrationFailure</th>\n      <th>paymentMethodType</th>\n      <th>paymentMethodProvider</th>\n      <th>paymentMethodIssuer</th>\n      <th>transactionAmount</th>\n      <th>transactionFailed</th>\n      <th>fraudulent</th>\n      <th>emailProvider</th>\n      <th>emailDomain</th>\n      <th>customerIPAddressVersion</th>\n      <th>sameCity</th>\n    </tr>\n  </thead>\n  <tbody>\n    <tr>\n      <th>0</th>\n      <td>(9.999, 18.4]</td>\n      <td>pending</td>\n      <td>True</td>\n      <td>card</td>\n      <td>JCB 16 digit</td>\n      <td>Citizens First Banks</td>\n      <td>(9.999, 21.0]</td>\n      <td>False</td>\n      <td>0</td>\n      <td>yahoo</td>\n      <td>com</td>\n      <td>4.0</td>\n      <td>yes</td>\n    </tr>\n    <tr>\n      <th>1</th>\n      <td>(18.4, 30.0]</td>\n      <td>fulfilled</td>\n      <td>True</td>\n      <td>bitcoin</td>\n      <td>VISA 16 digit</td>\n      <td>Solace Banks</td>\n      <td>(21.0, 34.0]</td>\n      <td>False</td>\n      <td>1</td>\n      <td>yahoo</td>\n      <td>com</td>\n      <td>4.0</td>\n      <td>no</td>\n    </tr>\n    <tr>\n      <th>2</th>\n      <td>(39.0, 47.0]</td>\n      <td>fulfilled</td>\n      <td>False</td>\n      <td>card</td>\n      <td>VISA 16 digit</td>\n      <td>Vertex Bancorp</td>\n      <td>(34.0, 45.0]</td>\n      <td>False</td>\n      <td>0</td>\n      <td>yahoo</td>\n      <td>com</td>\n      <td>6.0</td>\n      <td>no</td>\n    </tr>\n  </tbody>\n</table>\n</div>"
     },
     "execution_count": 20,
     "metadata": {},
     "output_type": "execute_result"
    }
   ],
   "source": [
    "data.head(3)"
   ],
   "metadata": {
    "collapsed": false,
    "ExecuteTime": {
     "end_time": "2023-06-13T03:54:57.486726791Z",
     "start_time": "2023-06-13T03:54:57.382834928Z"
    }
   }
  },
  {
   "cell_type": "code",
   "execution_count": 21,
   "outputs": [
    {
     "data": {
      "text/plain": "(30.0, 39.0]     98\n(39.0, 47.0]     97\n(9.999, 18.4]    96\n(18.4, 30.0]     96\n(47.0, 353.0]    91\nName: orderAmount, dtype: int64"
     },
     "execution_count": 21,
     "metadata": {},
     "output_type": "execute_result"
    }
   ],
   "source": [
    "data['orderAmount'].value_counts()"
   ],
   "metadata": {
    "collapsed": false,
    "ExecuteTime": {
     "end_time": "2023-06-13T03:54:57.487118663Z",
     "start_time": "2023-06-13T03:54:57.383158827Z"
    }
   }
  },
  {
   "cell_type": "code",
   "execution_count": 22,
   "outputs": [],
   "source": [
    "data['orderAmount']=data['orderAmount'].cat.add_categories(\"desconocido\")\n",
    "data['orderAmount']=data['orderAmount'].fillna(value=\"desconocido\")"
   ],
   "metadata": {
    "collapsed": false,
    "ExecuteTime": {
     "end_time": "2023-06-13T03:54:57.487345684Z",
     "start_time": "2023-06-13T03:54:57.383445559Z"
    }
   }
  },
  {
   "cell_type": "code",
   "execution_count": 23,
   "outputs": [
    {
     "data": {
      "text/plain": "desconocido      145\n(30.0, 39.0]      98\n(39.0, 47.0]      97\n(9.999, 18.4]     96\n(18.4, 30.0]      96\n(47.0, 353.0]     91\nName: orderAmount, dtype: int64"
     },
     "execution_count": 23,
     "metadata": {},
     "output_type": "execute_result"
    }
   ],
   "source": [
    "data['orderAmount'].value_counts()"
   ],
   "metadata": {
    "collapsed": false,
    "ExecuteTime": {
     "end_time": "2023-06-13T03:54:57.523087268Z",
     "start_time": "2023-06-13T03:54:57.387858107Z"
    }
   }
  },
  {
   "cell_type": "code",
   "execution_count": 24,
   "outputs": [],
   "source": [
    "data['customerIPAddressVersion'] = data['customerIPAddressVersion'].fillna(0)"
   ],
   "metadata": {
    "collapsed": false,
    "ExecuteTime": {
     "end_time": "2023-06-13T03:54:57.523553376Z",
     "start_time": "2023-06-13T03:54:57.428654257Z"
    }
   }
  },
  {
   "cell_type": "markdown",
   "source": [
    "## 3 One hot encoding"
   ],
   "metadata": {
    "collapsed": false
   }
  },
  {
   "cell_type": "code",
   "execution_count": 25,
   "outputs": [],
   "source": [
    "data_ohe =  pd.get_dummies(data, dummy_na=True)"
   ],
   "metadata": {
    "collapsed": false,
    "ExecuteTime": {
     "end_time": "2023-06-13T03:54:57.523804380Z",
     "start_time": "2023-06-13T03:54:57.428880516Z"
    }
   }
  },
  {
   "cell_type": "code",
   "execution_count": 26,
   "outputs": [
    {
     "data": {
      "text/plain": "   transactionFailed  fraudulent  customerIPAddressVersion  \\\n0              False           0                       4.0   \n1              False           1                       4.0   \n2              False           0                       6.0   \n\n   orderAmount_(9.999, 18.4]  orderAmount_(18.4, 30.0]  \\\n0                          1                         0   \n1                          0                         1   \n2                          0                         0   \n\n   orderAmount_(30.0, 39.0]  orderAmount_(39.0, 47.0]  \\\n0                         0                         0   \n1                         0                         0   \n2                         0                         1   \n\n   orderAmount_(47.0, 353.0]  orderAmount_desconocido  orderAmount_nan  ...  \\\n0                          0                        0                0  ...   \n1                          0                        0                0  ...   \n2                          0                        0                0  ...   \n\n   emailDomain_com  emailDomain_info  emailDomain_net  emailDomain_org  \\\n0                1                 0                0                0   \n1                1                 0                0                0   \n2                1                 0                0                0   \n\n   emailDomain_weird  emailDomain_nan  sameCity_no  sameCity_unknown  \\\n0                  0                0            0                 0   \n1                  0                0            1                 0   \n2                  0                0            1                 0   \n\n   sameCity_yes  sameCity_nan  \n0             1             0  \n1             0             0  \n2             0             0  \n\n[3 rows x 67 columns]",
      "text/html": "<div>\n<style scoped>\n    .dataframe tbody tr th:only-of-type {\n        vertical-align: middle;\n    }\n\n    .dataframe tbody tr th {\n        vertical-align: top;\n    }\n\n    .dataframe thead th {\n        text-align: right;\n    }\n</style>\n<table border=\"1\" class=\"dataframe\">\n  <thead>\n    <tr style=\"text-align: right;\">\n      <th></th>\n      <th>transactionFailed</th>\n      <th>fraudulent</th>\n      <th>customerIPAddressVersion</th>\n      <th>orderAmount_(9.999, 18.4]</th>\n      <th>orderAmount_(18.4, 30.0]</th>\n      <th>orderAmount_(30.0, 39.0]</th>\n      <th>orderAmount_(39.0, 47.0]</th>\n      <th>orderAmount_(47.0, 353.0]</th>\n      <th>orderAmount_desconocido</th>\n      <th>orderAmount_nan</th>\n      <th>...</th>\n      <th>emailDomain_com</th>\n      <th>emailDomain_info</th>\n      <th>emailDomain_net</th>\n      <th>emailDomain_org</th>\n      <th>emailDomain_weird</th>\n      <th>emailDomain_nan</th>\n      <th>sameCity_no</th>\n      <th>sameCity_unknown</th>\n      <th>sameCity_yes</th>\n      <th>sameCity_nan</th>\n    </tr>\n  </thead>\n  <tbody>\n    <tr>\n      <th>0</th>\n      <td>False</td>\n      <td>0</td>\n      <td>4.0</td>\n      <td>1</td>\n      <td>0</td>\n      <td>0</td>\n      <td>0</td>\n      <td>0</td>\n      <td>0</td>\n      <td>0</td>\n      <td>...</td>\n      <td>1</td>\n      <td>0</td>\n      <td>0</td>\n      <td>0</td>\n      <td>0</td>\n      <td>0</td>\n      <td>0</td>\n      <td>0</td>\n      <td>1</td>\n      <td>0</td>\n    </tr>\n    <tr>\n      <th>1</th>\n      <td>False</td>\n      <td>1</td>\n      <td>4.0</td>\n      <td>0</td>\n      <td>1</td>\n      <td>0</td>\n      <td>0</td>\n      <td>0</td>\n      <td>0</td>\n      <td>0</td>\n      <td>...</td>\n      <td>1</td>\n      <td>0</td>\n      <td>0</td>\n      <td>0</td>\n      <td>0</td>\n      <td>0</td>\n      <td>1</td>\n      <td>0</td>\n      <td>0</td>\n      <td>0</td>\n    </tr>\n    <tr>\n      <th>2</th>\n      <td>False</td>\n      <td>0</td>\n      <td>6.0</td>\n      <td>0</td>\n      <td>0</td>\n      <td>0</td>\n      <td>1</td>\n      <td>0</td>\n      <td>0</td>\n      <td>0</td>\n      <td>...</td>\n      <td>1</td>\n      <td>0</td>\n      <td>0</td>\n      <td>0</td>\n      <td>0</td>\n      <td>0</td>\n      <td>1</td>\n      <td>0</td>\n      <td>0</td>\n      <td>0</td>\n    </tr>\n  </tbody>\n</table>\n<p>3 rows × 67 columns</p>\n</div>"
     },
     "execution_count": 26,
     "metadata": {},
     "output_type": "execute_result"
    }
   ],
   "source": [
    "data_ohe.head(3)"
   ],
   "metadata": {
    "collapsed": false,
    "ExecuteTime": {
     "end_time": "2023-06-13T03:54:57.602057951Z",
     "start_time": "2023-06-13T03:54:57.429059586Z"
    }
   }
  },
  {
   "cell_type": "code",
   "execution_count": 27,
   "outputs": [],
   "source": [
    "data_ohe_without_fraudulent = data_ohe.drop([\"fraudulent\"], axis=1)"
   ],
   "metadata": {
    "collapsed": false,
    "ExecuteTime": {
     "end_time": "2023-06-13T03:54:57.602314960Z",
     "start_time": "2023-06-13T03:54:57.469700340Z"
    }
   }
  },
  {
   "cell_type": "code",
   "execution_count": 28,
   "outputs": [],
   "source": [
    "with open('../data/categories_ohe_without_fraudulent.pickle', 'wb') as handle:\n",
    "    pickle.dump(data_ohe_without_fraudulent.columns, handle, protocol=pickle.HIGHEST_PROTOCOL)"
   ],
   "metadata": {
    "collapsed": false,
    "ExecuteTime": {
     "end_time": "2023-06-13T03:54:57.602469774Z",
     "start_time": "2023-06-13T03:54:57.469872656Z"
    }
   }
  },
  {
   "cell_type": "code",
   "execution_count": 29,
   "outputs": [],
   "source": [
    "filename = \"../data/ohe_customer_dataset.csv\"\n",
    "data_ohe.to_csv(filename, index = False)"
   ],
   "metadata": {
    "collapsed": false,
    "ExecuteTime": {
     "end_time": "2023-06-13T03:54:57.602617310Z",
     "start_time": "2023-06-13T03:54:57.469995117Z"
    }
   }
  },
  {
   "cell_type": "code",
   "execution_count": 29,
   "outputs": [],
   "source": [],
   "metadata": {
    "collapsed": false,
    "ExecuteTime": {
     "end_time": "2023-06-13T03:54:57.602750825Z",
     "start_time": "2023-06-13T03:54:57.470108894Z"
    }
   }
  }
 ],
 "metadata": {
  "kernelspec": {
   "display_name": "Python 3",
   "language": "python",
   "name": "python3"
  },
  "language_info": {
   "codemirror_mode": {
    "name": "ipython",
    "version": 2
   },
   "file_extension": ".py",
   "mimetype": "text/x-python",
   "name": "python",
   "nbconvert_exporter": "python",
   "pygments_lexer": "ipython2",
   "version": "2.7.6"
  }
 },
 "nbformat": 4,
 "nbformat_minor": 0
}
