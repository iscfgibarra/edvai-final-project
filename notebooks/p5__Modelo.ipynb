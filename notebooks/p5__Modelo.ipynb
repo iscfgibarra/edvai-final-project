{
 "cells": [
  {
   "cell_type": "markdown",
   "source": [
    "# Modelo\n",
    "# ======\n"
   ],
   "metadata": {
    "collapsed": false
   }
  },
  {
   "cell_type": "markdown",
   "source": [
    "# Importamos las librerías necesarias"
   ],
   "metadata": {
    "collapsed": false
   }
  },
  {
   "cell_type": "code",
   "execution_count": 9,
   "outputs": [],
   "source": [
    "import pandas as pd\n",
    "from funpymodeling import status"
   ],
   "metadata": {
    "collapsed": false,
    "ExecuteTime": {
     "end_time": "2023-06-13T03:55:28.373607569Z",
     "start_time": "2023-06-13T03:55:28.332360883Z"
    }
   }
  },
  {
   "cell_type": "code",
   "execution_count": 10,
   "outputs": [
    {
     "data": {
      "text/plain": "                     variable  q_nan  p_nan  q_zeros   p_zeros  unique  \\\n0           transactionFailed      0    0.0      455  0.730337       2   \n1                  fraudulent      0    0.0      107  0.171750       3   \n2    customerIPAddressVersion      0    0.0      455  0.730337       3   \n3   orderAmount_(9.999, 18.4]      0    0.0      527  0.845907       2   \n4    orderAmount_(18.4, 30.0]      0    0.0      527  0.845907       2   \n..                        ...    ...    ...      ...       ...     ...   \n62            emailDomain_nan      0    0.0      623  1.000000       1   \n63                sameCity_no      0    0.0      486  0.780096       2   \n64           sameCity_unknown      0    0.0      139  0.223114       2   \n65               sameCity_yes      0    0.0      621  0.996790       2   \n66               sameCity_nan      0    0.0      623  1.000000       1   \n\n       type  \n0      bool  \n1     int64  \n2   float64  \n3     int64  \n4     int64  \n..      ...  \n62    int64  \n63    int64  \n64    int64  \n65    int64  \n66    int64  \n\n[67 rows x 7 columns]",
      "text/html": "<div>\n<style scoped>\n    .dataframe tbody tr th:only-of-type {\n        vertical-align: middle;\n    }\n\n    .dataframe tbody tr th {\n        vertical-align: top;\n    }\n\n    .dataframe thead th {\n        text-align: right;\n    }\n</style>\n<table border=\"1\" class=\"dataframe\">\n  <thead>\n    <tr style=\"text-align: right;\">\n      <th></th>\n      <th>variable</th>\n      <th>q_nan</th>\n      <th>p_nan</th>\n      <th>q_zeros</th>\n      <th>p_zeros</th>\n      <th>unique</th>\n      <th>type</th>\n    </tr>\n  </thead>\n  <tbody>\n    <tr>\n      <th>0</th>\n      <td>transactionFailed</td>\n      <td>0</td>\n      <td>0.0</td>\n      <td>455</td>\n      <td>0.730337</td>\n      <td>2</td>\n      <td>bool</td>\n    </tr>\n    <tr>\n      <th>1</th>\n      <td>fraudulent</td>\n      <td>0</td>\n      <td>0.0</td>\n      <td>107</td>\n      <td>0.171750</td>\n      <td>3</td>\n      <td>int64</td>\n    </tr>\n    <tr>\n      <th>2</th>\n      <td>customerIPAddressVersion</td>\n      <td>0</td>\n      <td>0.0</td>\n      <td>455</td>\n      <td>0.730337</td>\n      <td>3</td>\n      <td>float64</td>\n    </tr>\n    <tr>\n      <th>3</th>\n      <td>orderAmount_(9.999, 18.4]</td>\n      <td>0</td>\n      <td>0.0</td>\n      <td>527</td>\n      <td>0.845907</td>\n      <td>2</td>\n      <td>int64</td>\n    </tr>\n    <tr>\n      <th>4</th>\n      <td>orderAmount_(18.4, 30.0]</td>\n      <td>0</td>\n      <td>0.0</td>\n      <td>527</td>\n      <td>0.845907</td>\n      <td>2</td>\n      <td>int64</td>\n    </tr>\n    <tr>\n      <th>...</th>\n      <td>...</td>\n      <td>...</td>\n      <td>...</td>\n      <td>...</td>\n      <td>...</td>\n      <td>...</td>\n      <td>...</td>\n    </tr>\n    <tr>\n      <th>62</th>\n      <td>emailDomain_nan</td>\n      <td>0</td>\n      <td>0.0</td>\n      <td>623</td>\n      <td>1.000000</td>\n      <td>1</td>\n      <td>int64</td>\n    </tr>\n    <tr>\n      <th>63</th>\n      <td>sameCity_no</td>\n      <td>0</td>\n      <td>0.0</td>\n      <td>486</td>\n      <td>0.780096</td>\n      <td>2</td>\n      <td>int64</td>\n    </tr>\n    <tr>\n      <th>64</th>\n      <td>sameCity_unknown</td>\n      <td>0</td>\n      <td>0.0</td>\n      <td>139</td>\n      <td>0.223114</td>\n      <td>2</td>\n      <td>int64</td>\n    </tr>\n    <tr>\n      <th>65</th>\n      <td>sameCity_yes</td>\n      <td>0</td>\n      <td>0.0</td>\n      <td>621</td>\n      <td>0.996790</td>\n      <td>2</td>\n      <td>int64</td>\n    </tr>\n    <tr>\n      <th>66</th>\n      <td>sameCity_nan</td>\n      <td>0</td>\n      <td>0.0</td>\n      <td>623</td>\n      <td>1.000000</td>\n      <td>1</td>\n      <td>int64</td>\n    </tr>\n  </tbody>\n</table>\n<p>67 rows × 7 columns</p>\n</div>"
     },
     "execution_count": 10,
     "metadata": {},
     "output_type": "execute_result"
    }
   ],
   "source": [
    "data = pd.read_csv(\"../data/ohe_customer_dataset.csv\", sep=',')\n",
    "status(data)"
   ],
   "metadata": {
    "collapsed": false,
    "ExecuteTime": {
     "end_time": "2023-06-13T03:55:29.037393064Z",
     "start_time": "2023-06-13T03:55:28.994270723Z"
    }
   }
  },
  {
   "cell_type": "code",
   "execution_count": 11,
   "outputs": [],
   "source": [
    "from sklearn.model_selection import train_test_split\n",
    "\n",
    "X_train, X_test, y_train, y_test = train_test_split(data.drop(['fraudulent'], axis=1),\n",
    "                                                    data['fraudulent'],\n",
    "                                                    test_size=0.3,\n",
    "                                                    random_state=99)"
   ],
   "metadata": {
    "collapsed": false,
    "ExecuteTime": {
     "end_time": "2023-06-13T03:55:30.033886918Z",
     "start_time": "2023-06-13T03:55:30.016516526Z"
    }
   }
  },
  {
   "cell_type": "code",
   "execution_count": 12,
   "outputs": [],
   "source": [
    "from sklearn.ensemble import RandomForestClassifier\n",
    "\n",
    "rf = RandomForestClassifier(n_estimators=500, random_state=99)"
   ],
   "metadata": {
    "collapsed": false,
    "ExecuteTime": {
     "end_time": "2023-06-13T03:55:36.891118188Z",
     "start_time": "2023-06-13T03:55:36.876797565Z"
    }
   }
  },
  {
   "cell_type": "code",
   "execution_count": 13,
   "outputs": [
    {
     "data": {
      "text/plain": "RandomForestClassifier(n_estimators=500, random_state=99)",
      "text/html": "<style>#sk-container-id-1 {color: black;background-color: white;}#sk-container-id-1 pre{padding: 0;}#sk-container-id-1 div.sk-toggleable {background-color: white;}#sk-container-id-1 label.sk-toggleable__label {cursor: pointer;display: block;width: 100%;margin-bottom: 0;padding: 0.3em;box-sizing: border-box;text-align: center;}#sk-container-id-1 label.sk-toggleable__label-arrow:before {content: \"▸\";float: left;margin-right: 0.25em;color: #696969;}#sk-container-id-1 label.sk-toggleable__label-arrow:hover:before {color: black;}#sk-container-id-1 div.sk-estimator:hover label.sk-toggleable__label-arrow:before {color: black;}#sk-container-id-1 div.sk-toggleable__content {max-height: 0;max-width: 0;overflow: hidden;text-align: left;background-color: #f0f8ff;}#sk-container-id-1 div.sk-toggleable__content pre {margin: 0.2em;color: black;border-radius: 0.25em;background-color: #f0f8ff;}#sk-container-id-1 input.sk-toggleable__control:checked~div.sk-toggleable__content {max-height: 200px;max-width: 100%;overflow: auto;}#sk-container-id-1 input.sk-toggleable__control:checked~label.sk-toggleable__label-arrow:before {content: \"▾\";}#sk-container-id-1 div.sk-estimator input.sk-toggleable__control:checked~label.sk-toggleable__label {background-color: #d4ebff;}#sk-container-id-1 div.sk-label input.sk-toggleable__control:checked~label.sk-toggleable__label {background-color: #d4ebff;}#sk-container-id-1 input.sk-hidden--visually {border: 0;clip: rect(1px 1px 1px 1px);clip: rect(1px, 1px, 1px, 1px);height: 1px;margin: -1px;overflow: hidden;padding: 0;position: absolute;width: 1px;}#sk-container-id-1 div.sk-estimator {font-family: monospace;background-color: #f0f8ff;border: 1px dotted black;border-radius: 0.25em;box-sizing: border-box;margin-bottom: 0.5em;}#sk-container-id-1 div.sk-estimator:hover {background-color: #d4ebff;}#sk-container-id-1 div.sk-parallel-item::after {content: \"\";width: 100%;border-bottom: 1px solid gray;flex-grow: 1;}#sk-container-id-1 div.sk-label:hover label.sk-toggleable__label {background-color: #d4ebff;}#sk-container-id-1 div.sk-serial::before {content: \"\";position: absolute;border-left: 1px solid gray;box-sizing: border-box;top: 0;bottom: 0;left: 50%;z-index: 0;}#sk-container-id-1 div.sk-serial {display: flex;flex-direction: column;align-items: center;background-color: white;padding-right: 0.2em;padding-left: 0.2em;position: relative;}#sk-container-id-1 div.sk-item {position: relative;z-index: 1;}#sk-container-id-1 div.sk-parallel {display: flex;align-items: stretch;justify-content: center;background-color: white;position: relative;}#sk-container-id-1 div.sk-item::before, #sk-container-id-1 div.sk-parallel-item::before {content: \"\";position: absolute;border-left: 1px solid gray;box-sizing: border-box;top: 0;bottom: 0;left: 50%;z-index: -1;}#sk-container-id-1 div.sk-parallel-item {display: flex;flex-direction: column;z-index: 1;position: relative;background-color: white;}#sk-container-id-1 div.sk-parallel-item:first-child::after {align-self: flex-end;width: 50%;}#sk-container-id-1 div.sk-parallel-item:last-child::after {align-self: flex-start;width: 50%;}#sk-container-id-1 div.sk-parallel-item:only-child::after {width: 0;}#sk-container-id-1 div.sk-dashed-wrapped {border: 1px dashed gray;margin: 0 0.4em 0.5em 0.4em;box-sizing: border-box;padding-bottom: 0.4em;background-color: white;}#sk-container-id-1 div.sk-label label {font-family: monospace;font-weight: bold;display: inline-block;line-height: 1.2em;}#sk-container-id-1 div.sk-label-container {text-align: center;}#sk-container-id-1 div.sk-container {/* jupyter's `normalize.less` sets `[hidden] { display: none; }` but bootstrap.min.css set `[hidden] { display: none !important; }` so we also need the `!important` here to be able to override the default hidden behavior on the sphinx rendered scikit-learn.org. See: https://github.com/scikit-learn/scikit-learn/issues/21755 */display: inline-block !important;position: relative;}#sk-container-id-1 div.sk-text-repr-fallback {display: none;}</style><div id=\"sk-container-id-1\" class=\"sk-top-container\"><div class=\"sk-text-repr-fallback\"><pre>RandomForestClassifier(n_estimators=500, random_state=99)</pre><b>In a Jupyter environment, please rerun this cell to show the HTML representation or trust the notebook. <br />On GitHub, the HTML representation is unable to render, please try loading this page with nbviewer.org.</b></div><div class=\"sk-container\" hidden><div class=\"sk-item\"><div class=\"sk-estimator sk-toggleable\"><input class=\"sk-toggleable__control sk-hidden--visually\" id=\"sk-estimator-id-1\" type=\"checkbox\" checked><label for=\"sk-estimator-id-1\" class=\"sk-toggleable__label sk-toggleable__label-arrow\">RandomForestClassifier</label><div class=\"sk-toggleable__content\"><pre>RandomForestClassifier(n_estimators=500, random_state=99)</pre></div></div></div></div></div>"
     },
     "execution_count": 13,
     "metadata": {},
     "output_type": "execute_result"
    }
   ],
   "source": [
    "rf.fit(X_train, y_train)"
   ],
   "metadata": {
    "collapsed": false,
    "ExecuteTime": {
     "end_time": "2023-06-13T03:55:38.573786772Z",
     "start_time": "2023-06-13T03:55:37.802675166Z"
    }
   }
  },
  {
   "cell_type": "code",
   "execution_count": 14,
   "outputs": [
    {
     "data": {
      "text/plain": "0.8983957219251337"
     },
     "execution_count": 14,
     "metadata": {},
     "output_type": "execute_result"
    }
   ],
   "source": [
    "rf.score(X_test, y_test)"
   ],
   "metadata": {
    "collapsed": false,
    "ExecuteTime": {
     "end_time": "2023-06-13T03:56:32.032231362Z",
     "start_time": "2023-06-13T03:56:31.952046630Z"
    }
   }
  },
  {
   "cell_type": "code",
   "execution_count": 27,
   "outputs": [],
   "source": [
    "from sklearn.metrics import ConfusionMatrixDisplay\n",
    "import seaborn as sns"
   ],
   "metadata": {
    "collapsed": false,
    "ExecuteTime": {
     "end_time": "2023-06-13T04:01:39.651704978Z",
     "start_time": "2023-06-13T04:01:39.610443493Z"
    }
   }
  },
  {
   "cell_type": "code",
   "execution_count": 28,
   "outputs": [
    {
     "data": {
      "text/plain": "<sklearn.metrics._plot.confusion_matrix.ConfusionMatrixDisplay at 0x7f7e5e706940>"
     },
     "execution_count": 28,
     "metadata": {},
     "output_type": "execute_result"
    },
    {
     "data": {
      "text/plain": "<Figure size 640x480 with 2 Axes>",
      "image/png": "[encoded data removed]"
     },
     "metadata": {},
     "output_type": "display_data"
    }
   ],
   "source": [
    "sns.set(font_scale=1.2) #  Ajuste tamaño de letra (var global)\n",
    "\n",
    "ConfusionMatrixDisplay.from_estimator(\n",
    "    rf, X_train, y_train,\n",
    "    display_labels=['false','true','warning'],\n",
    "    cmap='Blues',\n",
    "    )"
   ],
   "metadata": {
    "collapsed": false,
    "ExecuteTime": {
     "end_time": "2023-06-13T04:01:40.987782357Z",
     "start_time": "2023-06-13T04:01:40.643672137Z"
    }
   }
  },
  {
   "cell_type": "code",
   "execution_count": 30,
   "outputs": [],
   "source": [
    "import pickle\n",
    "\n",
    "with open('../data/modelo_proyecto_final.pkl', 'wb') as handle:\n",
    "    pickle.dump(rf, handle, protocol=pickle.HIGHEST_PROTOCOL)"
   ],
   "metadata": {
    "collapsed": false,
    "ExecuteTime": {
     "end_time": "2023-06-13T04:06:40.197334246Z",
     "start_time": "2023-06-13T04:06:40.167197272Z"
    }
   }
  },
  {
   "cell_type": "code",
   "execution_count": null,
   "outputs": [],
   "source": [],
   "metadata": {
    "collapsed": false
   }
  }
 ],
 "metadata": {
  "kernelspec": {
   "display_name": "Python 3",
   "language": "python",
   "name": "python3"
  },
  "language_info": {
   "codemirror_mode": {
    "name": "ipython",
    "version": 2
   },
   "file_extension": ".py",
   "mimetype": "text/x-python",
   "name": "python",
   "nbconvert_exporter": "python",
   "pygments_lexer": "ipython2",
   "version": "2.7.6"
  }
 },
 "nbformat": 4,
 "nbformat_minor": 0
}
