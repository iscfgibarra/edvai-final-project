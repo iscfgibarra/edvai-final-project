{
 "cells": [
  {
   "cell_type": "markdown",
   "source": [
    "## Adaptacion del dataset para el modelo"
   ],
   "metadata": {
    "collapsed": false
   }
  },
  {
   "cell_type": "code",
   "execution_count": 1,
   "outputs": [],
   "source": [
    "import pandas as pd\n",
    "import json"
   ],
   "metadata": {
    "collapsed": false,
    "ExecuteTime": {
     "end_time": "2023-06-12T00:26:57.201062684Z",
     "start_time": "2023-06-12T00:26:56.776829174Z"
    }
   }
  },
  {
   "cell_type": "markdown",
   "source": [
    "## 1. Cargamos el archivo json"
   ],
   "metadata": {
    "collapsed": false
   }
  },
  {
   "cell_type": "code",
   "execution_count": 2,
   "outputs": [
    {
     "data": {
      "text/plain": "   fraudulent                                           customer  \\\n0       False  {'customerEmail': 'josephhoward@yahoo.com', 'c...   \n1        True  {'customerEmail': 'evansjeffery@yahoo.com', 'c...   \n2       False  {'customerEmail': 'andersonwilliam@yahoo.com',...   \n3       False  {'customerEmail': 'rubenjuarez@yahoo.com', 'cu...   \n4        True  {'customerEmail': 'uchen@malone.com', 'custome...   \n\n                                              orders  \\\n0  [{'orderId': 'vjbdvd', 'orderAmount': 18, 'ord...   \n1  [{'orderId': 'nlghpa', 'orderAmount': 45, 'ord...   \n2  [{'orderId': 'yk34y2', 'orderAmount': 33, 'ord...   \n3  [{'orderId': 'fbz9ep', 'orderAmount': 34, 'ord...   \n4  [{'orderId': '56h7iw', 'orderAmount': 71, 'ord...   \n\n                                      paymentMethods  \\\n0  [{'paymentMethodId': 'wt07xm68b', 'paymentMeth...   \n1  [{'paymentMethodId': 'y3xp697jx', 'paymentMeth...   \n2  [{'paymentMethodId': '8pneoi03z', 'paymentMeth...   \n3  [{'paymentMethodId': 'pdxjdwui4', 'paymentMeth...   \n4  [{'paymentMethodId': 'w1i1zq3rg', 'paymentMeth...   \n\n                                        transactions  \n0  [{'transactionId': 'a9lcj51r', 'orderId': 'vjb...  \n1  [{'transactionId': '5mi94sfw', 'orderId': 'nlg...  \n2  [{'transactionId': 'q3lyvbza', 'orderId': 'yk3...  \n3  [{'transactionId': 'vx4cjc27', 'orderId': 'fbz...  \n4  [{'transactionId': 'q8j3dgni', 'orderId': '56h...  ",
      "text/html": "<div>\n<style scoped>\n    .dataframe tbody tr th:only-of-type {\n        vertical-align: middle;\n    }\n\n    .dataframe tbody tr th {\n        vertical-align: top;\n    }\n\n    .dataframe thead th {\n        text-align: right;\n    }\n</style>\n<table border=\"1\" class=\"dataframe\">\n  <thead>\n    <tr style=\"text-align: right;\">\n      <th></th>\n      <th>fraudulent</th>\n      <th>customer</th>\n      <th>orders</th>\n      <th>paymentMethods</th>\n      <th>transactions</th>\n    </tr>\n  </thead>\n  <tbody>\n    <tr>\n      <th>0</th>\n      <td>False</td>\n      <td>{'customerEmail': 'josephhoward@yahoo.com', 'c...</td>\n      <td>[{'orderId': 'vjbdvd', 'orderAmount': 18, 'ord...</td>\n      <td>[{'paymentMethodId': 'wt07xm68b', 'paymentMeth...</td>\n      <td>[{'transactionId': 'a9lcj51r', 'orderId': 'vjb...</td>\n    </tr>\n    <tr>\n      <th>1</th>\n      <td>True</td>\n      <td>{'customerEmail': 'evansjeffery@yahoo.com', 'c...</td>\n      <td>[{'orderId': 'nlghpa', 'orderAmount': 45, 'ord...</td>\n      <td>[{'paymentMethodId': 'y3xp697jx', 'paymentMeth...</td>\n      <td>[{'transactionId': '5mi94sfw', 'orderId': 'nlg...</td>\n    </tr>\n    <tr>\n      <th>2</th>\n      <td>False</td>\n      <td>{'customerEmail': 'andersonwilliam@yahoo.com',...</td>\n      <td>[{'orderId': 'yk34y2', 'orderAmount': 33, 'ord...</td>\n      <td>[{'paymentMethodId': '8pneoi03z', 'paymentMeth...</td>\n      <td>[{'transactionId': 'q3lyvbza', 'orderId': 'yk3...</td>\n    </tr>\n    <tr>\n      <th>3</th>\n      <td>False</td>\n      <td>{'customerEmail': 'rubenjuarez@yahoo.com', 'cu...</td>\n      <td>[{'orderId': 'fbz9ep', 'orderAmount': 34, 'ord...</td>\n      <td>[{'paymentMethodId': 'pdxjdwui4', 'paymentMeth...</td>\n      <td>[{'transactionId': 'vx4cjc27', 'orderId': 'fbz...</td>\n    </tr>\n    <tr>\n      <th>4</th>\n      <td>True</td>\n      <td>{'customerEmail': 'uchen@malone.com', 'custome...</td>\n      <td>[{'orderId': '56h7iw', 'orderAmount': 71, 'ord...</td>\n      <td>[{'paymentMethodId': 'w1i1zq3rg', 'paymentMeth...</td>\n      <td>[{'transactionId': 'q8j3dgni', 'orderId': '56h...</td>\n    </tr>\n  </tbody>\n</table>\n</div>"
     },
     "execution_count": 2,
     "metadata": {},
     "output_type": "execute_result"
    }
   ],
   "source": [
    "customer_file = '../data/customers.json'\n",
    "df_json_nested = pd.read_json(customer_file, lines= True)\n",
    "df_json_nested.head()\n"
   ],
   "metadata": {
    "collapsed": false,
    "ExecuteTime": {
     "end_time": "2023-06-12T00:26:57.258719391Z",
     "start_time": "2023-06-12T00:26:57.201557758Z"
    }
   }
  },
  {
   "cell_type": "markdown",
   "source": [
    "## 2. Customer dataframe"
   ],
   "metadata": {
    "collapsed": false
   }
  },
  {
   "cell_type": "code",
   "execution_count": 3,
   "outputs": [
    {
     "data": {
      "text/plain": "               customerEmail       customerPhone        customerDevice  \\\n0     josephhoward@yahoo.com        400-108-5415  yyeiaxpltf82440jnb3v   \n1     evansjeffery@yahoo.com      1-788-091-7546  r0jpm7xaeqqa3kr6mzum   \n2  andersonwilliam@yahoo.com        024.420.0375  4m7h5ipl1shyavt6vv2r   \n3      rubenjuarez@yahoo.com  670.664.8168x94985  slovx60t0i558may4ks0   \n4           uchen@malone.com      1-981-877-0870  j0pd24k5h8dl2fqu0cz4   \n\n                         customerIPAddress  \\\n0                             8.129.104.40   \n1                          219.173.211.202   \n2  67b7:3db8:67e0:3bea:b9d0:90c1:2b60:b9f0   \n3  95de:8565:5a66:792c:26e0:6cfb:7d87:11af   \n4                           196.89.235.192   \n\n                              customerBillingAddress  \n0            5493 Jones Islands\\nBrownside, CA 51896  \n1  356 Elizabeth Inlet Suite 120\\nPort Joshuabury...  \n2     8478 Sean Ridges Apt. 441\\nDavisberg, PR 72250  \n3  7769 Elizabeth Bridge Apt. 343\\nNortonstad, FM...  \n4  148 Russell Lodge Apt. 445\\nPort Jenniferside,...  ",
      "text/html": "<div>\n<style scoped>\n    .dataframe tbody tr th:only-of-type {\n        vertical-align: middle;\n    }\n\n    .dataframe tbody tr th {\n        vertical-align: top;\n    }\n\n    .dataframe thead th {\n        text-align: right;\n    }\n</style>\n<table border=\"1\" class=\"dataframe\">\n  <thead>\n    <tr style=\"text-align: right;\">\n      <th></th>\n      <th>customerEmail</th>\n      <th>customerPhone</th>\n      <th>customerDevice</th>\n      <th>customerIPAddress</th>\n      <th>customerBillingAddress</th>\n    </tr>\n  </thead>\n  <tbody>\n    <tr>\n      <th>0</th>\n      <td>josephhoward@yahoo.com</td>\n      <td>400-108-5415</td>\n      <td>yyeiaxpltf82440jnb3v</td>\n      <td>8.129.104.40</td>\n      <td>5493 Jones Islands\\nBrownside, CA 51896</td>\n    </tr>\n    <tr>\n      <th>1</th>\n      <td>evansjeffery@yahoo.com</td>\n      <td>1-788-091-7546</td>\n      <td>r0jpm7xaeqqa3kr6mzum</td>\n      <td>219.173.211.202</td>\n      <td>356 Elizabeth Inlet Suite 120\\nPort Joshuabury...</td>\n    </tr>\n    <tr>\n      <th>2</th>\n      <td>andersonwilliam@yahoo.com</td>\n      <td>024.420.0375</td>\n      <td>4m7h5ipl1shyavt6vv2r</td>\n      <td>67b7:3db8:67e0:3bea:b9d0:90c1:2b60:b9f0</td>\n      <td>8478 Sean Ridges Apt. 441\\nDavisberg, PR 72250</td>\n    </tr>\n    <tr>\n      <th>3</th>\n      <td>rubenjuarez@yahoo.com</td>\n      <td>670.664.8168x94985</td>\n      <td>slovx60t0i558may4ks0</td>\n      <td>95de:8565:5a66:792c:26e0:6cfb:7d87:11af</td>\n      <td>7769 Elizabeth Bridge Apt. 343\\nNortonstad, FM...</td>\n    </tr>\n    <tr>\n      <th>4</th>\n      <td>uchen@malone.com</td>\n      <td>1-981-877-0870</td>\n      <td>j0pd24k5h8dl2fqu0cz4</td>\n      <td>196.89.235.192</td>\n      <td>148 Russell Lodge Apt. 445\\nPort Jenniferside,...</td>\n    </tr>\n  </tbody>\n</table>\n</div>"
     },
     "execution_count": 3,
     "metadata": {},
     "output_type": "execute_result"
    }
   ],
   "source": [
    "customers_df = pd.json_normalize(data = df_json_nested['customer'])\n",
    "customers_df.head()"
   ],
   "metadata": {
    "collapsed": false,
    "ExecuteTime": {
     "end_time": "2023-06-12T00:26:57.265541694Z",
     "start_time": "2023-06-12T00:26:57.243224112Z"
    }
   }
  },
  {
   "cell_type": "markdown",
   "source": [
    "## 3 Crear funcion generica para transformar listas anidadas en dataframe"
   ],
   "metadata": {
    "collapsed": false
   }
  },
  {
   "cell_type": "code",
   "execution_count": 4,
   "outputs": [],
   "source": [
    "def nested_to_df(df, column_name):\n",
    "    nested = pd.DataFrame([md for md in df[column_name]])\n",
    "    item_list=[]\n",
    "    for index,row in nested.iterrows():\n",
    "        for item in row:\n",
    "            if item is not None:\n",
    "                item_list.append(item)\n",
    "    return pd.DataFrame(item_list)"
   ],
   "metadata": {
    "collapsed": false,
    "ExecuteTime": {
     "end_time": "2023-06-12T00:26:57.265886022Z",
     "start_time": "2023-06-12T00:26:57.257787800Z"
    }
   }
  },
  {
   "cell_type": "markdown",
   "source": [
    "## 4. Crear dataframe de orders"
   ],
   "metadata": {
    "collapsed": false
   }
  },
  {
   "cell_type": "code",
   "execution_count": 5,
   "outputs": [
    {
     "data": {
      "text/plain": "  orderId  orderAmount orderState  \\\n0  vjbdvd           18    pending   \n1  yp6x27           26  fulfilled   \n2  nlghpa           45  fulfilled   \n3  uw0eeb           23  fulfilled   \n4  bn44oh           43  fulfilled   \n\n                                orderShippingAddress  \n0            5493 Jones Islands\\nBrownside, CA 51896  \n1            5493 Jones Islands\\nBrownside, CA 51896  \n2      898 Henry Ports\\nNew Keithview, CA 95893-2497  \n3  356 Elizabeth Inlet Suite 120\\nPort Joshuabury...  \n4         5093 Bryan Forks\\nJoshuaton, FM 01565-9801  ",
      "text/html": "<div>\n<style scoped>\n    .dataframe tbody tr th:only-of-type {\n        vertical-align: middle;\n    }\n\n    .dataframe tbody tr th {\n        vertical-align: top;\n    }\n\n    .dataframe thead th {\n        text-align: right;\n    }\n</style>\n<table border=\"1\" class=\"dataframe\">\n  <thead>\n    <tr style=\"text-align: right;\">\n      <th></th>\n      <th>orderId</th>\n      <th>orderAmount</th>\n      <th>orderState</th>\n      <th>orderShippingAddress</th>\n    </tr>\n  </thead>\n  <tbody>\n    <tr>\n      <th>0</th>\n      <td>vjbdvd</td>\n      <td>18</td>\n      <td>pending</td>\n      <td>5493 Jones Islands\\nBrownside, CA 51896</td>\n    </tr>\n    <tr>\n      <th>1</th>\n      <td>yp6x27</td>\n      <td>26</td>\n      <td>fulfilled</td>\n      <td>5493 Jones Islands\\nBrownside, CA 51896</td>\n    </tr>\n    <tr>\n      <th>2</th>\n      <td>nlghpa</td>\n      <td>45</td>\n      <td>fulfilled</td>\n      <td>898 Henry Ports\\nNew Keithview, CA 95893-2497</td>\n    </tr>\n    <tr>\n      <th>3</th>\n      <td>uw0eeb</td>\n      <td>23</td>\n      <td>fulfilled</td>\n      <td>356 Elizabeth Inlet Suite 120\\nPort Joshuabury...</td>\n    </tr>\n    <tr>\n      <th>4</th>\n      <td>bn44oh</td>\n      <td>43</td>\n      <td>fulfilled</td>\n      <td>5093 Bryan Forks\\nJoshuaton, FM 01565-9801</td>\n    </tr>\n  </tbody>\n</table>\n</div>"
     },
     "execution_count": 5,
     "metadata": {},
     "output_type": "execute_result"
    }
   ],
   "source": [
    "orders_df = nested_to_df(df_json_nested, 'orders')\n",
    "orders_df.head()"
   ],
   "metadata": {
    "collapsed": false,
    "ExecuteTime": {
     "end_time": "2023-06-12T00:26:57.392616762Z",
     "start_time": "2023-06-12T00:26:57.259187158Z"
    }
   }
  },
  {
   "cell_type": "markdown",
   "source": [
    "## 5. Crear dataframe de transactions"
   ],
   "metadata": {
    "collapsed": false
   }
  },
  {
   "cell_type": "code",
   "execution_count": 6,
   "outputs": [
    {
     "data": {
      "text/plain": "  transactionId orderId paymentMethodId  transactionAmount  transactionFailed\n0      a9lcj51r  vjbdvd       wt07xm68b                 18              False\n1      y4wcv03i  yp6x27       wt07xm68b                 26              False\n2      5mi94sfw  nlghpa       41ug157xz                 45              False\n3      br8ba1nu  uw0eeb       41ug157xz                 23              False\n4      a33145ss  bn44oh       y3xp697jx                 43               True",
      "text/html": "<div>\n<style scoped>\n    .dataframe tbody tr th:only-of-type {\n        vertical-align: middle;\n    }\n\n    .dataframe tbody tr th {\n        vertical-align: top;\n    }\n\n    .dataframe thead th {\n        text-align: right;\n    }\n</style>\n<table border=\"1\" class=\"dataframe\">\n  <thead>\n    <tr style=\"text-align: right;\">\n      <th></th>\n      <th>transactionId</th>\n      <th>orderId</th>\n      <th>paymentMethodId</th>\n      <th>transactionAmount</th>\n      <th>transactionFailed</th>\n    </tr>\n  </thead>\n  <tbody>\n    <tr>\n      <th>0</th>\n      <td>a9lcj51r</td>\n      <td>vjbdvd</td>\n      <td>wt07xm68b</td>\n      <td>18</td>\n      <td>False</td>\n    </tr>\n    <tr>\n      <th>1</th>\n      <td>y4wcv03i</td>\n      <td>yp6x27</td>\n      <td>wt07xm68b</td>\n      <td>26</td>\n      <td>False</td>\n    </tr>\n    <tr>\n      <th>2</th>\n      <td>5mi94sfw</td>\n      <td>nlghpa</td>\n      <td>41ug157xz</td>\n      <td>45</td>\n      <td>False</td>\n    </tr>\n    <tr>\n      <th>3</th>\n      <td>br8ba1nu</td>\n      <td>uw0eeb</td>\n      <td>41ug157xz</td>\n      <td>23</td>\n      <td>False</td>\n    </tr>\n    <tr>\n      <th>4</th>\n      <td>a33145ss</td>\n      <td>bn44oh</td>\n      <td>y3xp697jx</td>\n      <td>43</td>\n      <td>True</td>\n    </tr>\n  </tbody>\n</table>\n</div>"
     },
     "execution_count": 6,
     "metadata": {},
     "output_type": "execute_result"
    }
   ],
   "source": [
    "transactions_df = nested_to_df(df_json_nested, 'transactions')\n",
    "transactions_df.head()"
   ],
   "metadata": {
    "collapsed": false,
    "ExecuteTime": {
     "end_time": "2023-06-12T00:26:57.419297369Z",
     "start_time": "2023-06-12T00:26:57.323646397Z"
    }
   }
  },
  {
   "cell_type": "markdown",
   "source": [
    "## 6. Crear dataframe payments"
   ],
   "metadata": {
    "collapsed": false
   }
  },
  {
   "cell_type": "code",
   "execution_count": 7,
   "outputs": [
    {
     "data": {
      "text/plain": "  paymentMethodId  paymentMethodRegistrationFailure paymentMethodType  \\\n0       wt07xm68b                              True              card   \n1       y3xp697jx                              True           bitcoin   \n2       6krszxc05                             False              card   \n3       5z1szj2he                             False              card   \n4       m52tx8e1s                             False              card   \n\n         paymentMethodProvider     paymentMethodIssuer  \n0                 JCB 16 digit    Citizens First Banks  \n1                VISA 16 digit            Solace Banks  \n2                VISA 16 digit          Vertex Bancorp  \n3  Diners Club / Carte Blanche  His Majesty Bank Corp.  \n4                   Mastercard          Vertex Bancorp  ",
      "text/html": "<div>\n<style scoped>\n    .dataframe tbody tr th:only-of-type {\n        vertical-align: middle;\n    }\n\n    .dataframe tbody tr th {\n        vertical-align: top;\n    }\n\n    .dataframe thead th {\n        text-align: right;\n    }\n</style>\n<table border=\"1\" class=\"dataframe\">\n  <thead>\n    <tr style=\"text-align: right;\">\n      <th></th>\n      <th>paymentMethodId</th>\n      <th>paymentMethodRegistrationFailure</th>\n      <th>paymentMethodType</th>\n      <th>paymentMethodProvider</th>\n      <th>paymentMethodIssuer</th>\n    </tr>\n  </thead>\n  <tbody>\n    <tr>\n      <th>0</th>\n      <td>wt07xm68b</td>\n      <td>True</td>\n      <td>card</td>\n      <td>JCB 16 digit</td>\n      <td>Citizens First Banks</td>\n    </tr>\n    <tr>\n      <th>1</th>\n      <td>y3xp697jx</td>\n      <td>True</td>\n      <td>bitcoin</td>\n      <td>VISA 16 digit</td>\n      <td>Solace Banks</td>\n    </tr>\n    <tr>\n      <th>2</th>\n      <td>6krszxc05</td>\n      <td>False</td>\n      <td>card</td>\n      <td>VISA 16 digit</td>\n      <td>Vertex Bancorp</td>\n    </tr>\n    <tr>\n      <th>3</th>\n      <td>5z1szj2he</td>\n      <td>False</td>\n      <td>card</td>\n      <td>Diners Club / Carte Blanche</td>\n      <td>His Majesty Bank Corp.</td>\n    </tr>\n    <tr>\n      <th>4</th>\n      <td>m52tx8e1s</td>\n      <td>False</td>\n      <td>card</td>\n      <td>Mastercard</td>\n      <td>Vertex Bancorp</td>\n    </tr>\n  </tbody>\n</table>\n</div>"
     },
     "execution_count": 7,
     "metadata": {},
     "output_type": "execute_result"
    }
   ],
   "source": [
    "payments_df = nested_to_df(df_json_nested, 'paymentMethods')\n",
    "payments_df.head()"
   ],
   "metadata": {
    "collapsed": false,
    "ExecuteTime": {
     "end_time": "2023-06-12T00:26:57.594851074Z",
     "start_time": "2023-06-12T00:26:57.364270026Z"
    }
   }
  },
  {
   "cell_type": "markdown",
   "source": [
    "## 7. Crear dataframe fraudulent"
   ],
   "metadata": {
    "collapsed": false
   }
  },
  {
   "cell_type": "code",
   "execution_count": 8,
   "outputs": [
    {
     "data": {
      "text/plain": "   fraudulent\n0       False\n1        True\n2       False\n3       False\n4        True",
      "text/html": "<div>\n<style scoped>\n    .dataframe tbody tr th:only-of-type {\n        vertical-align: middle;\n    }\n\n    .dataframe tbody tr th {\n        vertical-align: top;\n    }\n\n    .dataframe thead th {\n        text-align: right;\n    }\n</style>\n<table border=\"1\" class=\"dataframe\">\n  <thead>\n    <tr style=\"text-align: right;\">\n      <th></th>\n      <th>fraudulent</th>\n    </tr>\n  </thead>\n  <tbody>\n    <tr>\n      <th>0</th>\n      <td>False</td>\n    </tr>\n    <tr>\n      <th>1</th>\n      <td>True</td>\n    </tr>\n    <tr>\n      <th>2</th>\n      <td>False</td>\n    </tr>\n    <tr>\n      <th>3</th>\n      <td>False</td>\n    </tr>\n    <tr>\n      <th>4</th>\n      <td>True</td>\n    </tr>\n  </tbody>\n</table>\n</div>"
     },
     "execution_count": 8,
     "metadata": {},
     "output_type": "execute_result"
    }
   ],
   "source": [
    "fraudulent_df = nested_to_df(df_json_nested, 'fraudulent')\n",
    "fraudulent_df.columns = ['fraudulent']\n",
    "fraudulent_df.head()"
   ],
   "metadata": {
    "collapsed": false,
    "ExecuteTime": {
     "end_time": "2023-06-12T00:26:57.595549232Z",
     "start_time": "2023-06-12T00:26:57.364593684Z"
    }
   }
  },
  {
   "cell_type": "markdown",
   "source": [
    "## 8. Concatenar dataframes"
   ],
   "metadata": {
    "collapsed": false
   }
  },
  {
   "cell_type": "code",
   "execution_count": 9,
   "outputs": [
    {
     "data": {
      "text/plain": "               customerEmail       customerPhone        customerDevice  \\\n0     josephhoward@yahoo.com        400-108-5415  yyeiaxpltf82440jnb3v   \n1     evansjeffery@yahoo.com      1-788-091-7546  r0jpm7xaeqqa3kr6mzum   \n2  andersonwilliam@yahoo.com        024.420.0375  4m7h5ipl1shyavt6vv2r   \n3      rubenjuarez@yahoo.com  670.664.8168x94985  slovx60t0i558may4ks0   \n4           uchen@malone.com      1-981-877-0870  j0pd24k5h8dl2fqu0cz4   \n\n                         customerIPAddress  \\\n0                             8.129.104.40   \n1                          219.173.211.202   \n2  67b7:3db8:67e0:3bea:b9d0:90c1:2b60:b9f0   \n3  95de:8565:5a66:792c:26e0:6cfb:7d87:11af   \n4                           196.89.235.192   \n\n                              customerBillingAddress orderId  orderAmount  \\\n0            5493 Jones Islands\\nBrownside, CA 51896  vjbdvd         18.0   \n1  356 Elizabeth Inlet Suite 120\\nPort Joshuabury...  yp6x27         26.0   \n2     8478 Sean Ridges Apt. 441\\nDavisberg, PR 72250  nlghpa         45.0   \n3  7769 Elizabeth Bridge Apt. 343\\nNortonstad, FM...  uw0eeb         23.0   \n4  148 Russell Lodge Apt. 445\\nPort Jenniferside,...  bn44oh         43.0   \n\n  orderState                               orderShippingAddress  \\\n0    pending            5493 Jones Islands\\nBrownside, CA 51896   \n1  fulfilled            5493 Jones Islands\\nBrownside, CA 51896   \n2  fulfilled      898 Henry Ports\\nNew Keithview, CA 95893-2497   \n3  fulfilled  356 Elizabeth Inlet Suite 120\\nPort Joshuabury...   \n4  fulfilled         5093 Bryan Forks\\nJoshuaton, FM 01565-9801   \n\n  paymentMethodId paymentMethodRegistrationFailure paymentMethodType  \\\n0       wt07xm68b                             True              card   \n1       y3xp697jx                             True           bitcoin   \n2       6krszxc05                            False              card   \n3       5z1szj2he                            False              card   \n4       m52tx8e1s                            False              card   \n\n         paymentMethodProvider     paymentMethodIssuer transactionId orderId  \\\n0                 JCB 16 digit    Citizens First Banks      a9lcj51r  vjbdvd   \n1                VISA 16 digit            Solace Banks      y4wcv03i  yp6x27   \n2                VISA 16 digit          Vertex Bancorp      5mi94sfw  nlghpa   \n3  Diners Club / Carte Blanche  His Majesty Bank Corp.      br8ba1nu  uw0eeb   \n4                   Mastercard          Vertex Bancorp      a33145ss  bn44oh   \n\n  paymentMethodId  transactionAmount  transactionFailed fraudulent  \n0       wt07xm68b                 18              False      False  \n1       wt07xm68b                 26              False       True  \n2       41ug157xz                 45              False      False  \n3       41ug157xz                 23              False      False  \n4       y3xp697jx                 43               True       True  ",
      "text/html": "<div>\n<style scoped>\n    .dataframe tbody tr th:only-of-type {\n        vertical-align: middle;\n    }\n\n    .dataframe tbody tr th {\n        vertical-align: top;\n    }\n\n    .dataframe thead th {\n        text-align: right;\n    }\n</style>\n<table border=\"1\" class=\"dataframe\">\n  <thead>\n    <tr style=\"text-align: right;\">\n      <th></th>\n      <th>customerEmail</th>\n      <th>customerPhone</th>\n      <th>customerDevice</th>\n      <th>customerIPAddress</th>\n      <th>customerBillingAddress</th>\n      <th>orderId</th>\n      <th>orderAmount</th>\n      <th>orderState</th>\n      <th>orderShippingAddress</th>\n      <th>paymentMethodId</th>\n      <th>paymentMethodRegistrationFailure</th>\n      <th>paymentMethodType</th>\n      <th>paymentMethodProvider</th>\n      <th>paymentMethodIssuer</th>\n      <th>transactionId</th>\n      <th>orderId</th>\n      <th>paymentMethodId</th>\n      <th>transactionAmount</th>\n      <th>transactionFailed</th>\n      <th>fraudulent</th>\n    </tr>\n  </thead>\n  <tbody>\n    <tr>\n      <th>0</th>\n      <td>josephhoward@yahoo.com</td>\n      <td>400-108-5415</td>\n      <td>yyeiaxpltf82440jnb3v</td>\n      <td>8.129.104.40</td>\n      <td>5493 Jones Islands\\nBrownside, CA 51896</td>\n      <td>vjbdvd</td>\n      <td>18.0</td>\n      <td>pending</td>\n      <td>5493 Jones Islands\\nBrownside, CA 51896</td>\n      <td>wt07xm68b</td>\n      <td>True</td>\n      <td>card</td>\n      <td>JCB 16 digit</td>\n      <td>Citizens First Banks</td>\n      <td>a9lcj51r</td>\n      <td>vjbdvd</td>\n      <td>wt07xm68b</td>\n      <td>18</td>\n      <td>False</td>\n      <td>False</td>\n    </tr>\n    <tr>\n      <th>1</th>\n      <td>evansjeffery@yahoo.com</td>\n      <td>1-788-091-7546</td>\n      <td>r0jpm7xaeqqa3kr6mzum</td>\n      <td>219.173.211.202</td>\n      <td>356 Elizabeth Inlet Suite 120\\nPort Joshuabury...</td>\n      <td>yp6x27</td>\n      <td>26.0</td>\n      <td>fulfilled</td>\n      <td>5493 Jones Islands\\nBrownside, CA 51896</td>\n      <td>y3xp697jx</td>\n      <td>True</td>\n      <td>bitcoin</td>\n      <td>VISA 16 digit</td>\n      <td>Solace Banks</td>\n      <td>y4wcv03i</td>\n      <td>yp6x27</td>\n      <td>wt07xm68b</td>\n      <td>26</td>\n      <td>False</td>\n      <td>True</td>\n    </tr>\n    <tr>\n      <th>2</th>\n      <td>andersonwilliam@yahoo.com</td>\n      <td>024.420.0375</td>\n      <td>4m7h5ipl1shyavt6vv2r</td>\n      <td>67b7:3db8:67e0:3bea:b9d0:90c1:2b60:b9f0</td>\n      <td>8478 Sean Ridges Apt. 441\\nDavisberg, PR 72250</td>\n      <td>nlghpa</td>\n      <td>45.0</td>\n      <td>fulfilled</td>\n      <td>898 Henry Ports\\nNew Keithview, CA 95893-2497</td>\n      <td>6krszxc05</td>\n      <td>False</td>\n      <td>card</td>\n      <td>VISA 16 digit</td>\n      <td>Vertex Bancorp</td>\n      <td>5mi94sfw</td>\n      <td>nlghpa</td>\n      <td>41ug157xz</td>\n      <td>45</td>\n      <td>False</td>\n      <td>False</td>\n    </tr>\n    <tr>\n      <th>3</th>\n      <td>rubenjuarez@yahoo.com</td>\n      <td>670.664.8168x94985</td>\n      <td>slovx60t0i558may4ks0</td>\n      <td>95de:8565:5a66:792c:26e0:6cfb:7d87:11af</td>\n      <td>7769 Elizabeth Bridge Apt. 343\\nNortonstad, FM...</td>\n      <td>uw0eeb</td>\n      <td>23.0</td>\n      <td>fulfilled</td>\n      <td>356 Elizabeth Inlet Suite 120\\nPort Joshuabury...</td>\n      <td>5z1szj2he</td>\n      <td>False</td>\n      <td>card</td>\n      <td>Diners Club / Carte Blanche</td>\n      <td>His Majesty Bank Corp.</td>\n      <td>br8ba1nu</td>\n      <td>uw0eeb</td>\n      <td>41ug157xz</td>\n      <td>23</td>\n      <td>False</td>\n      <td>False</td>\n    </tr>\n    <tr>\n      <th>4</th>\n      <td>uchen@malone.com</td>\n      <td>1-981-877-0870</td>\n      <td>j0pd24k5h8dl2fqu0cz4</td>\n      <td>196.89.235.192</td>\n      <td>148 Russell Lodge Apt. 445\\nPort Jenniferside,...</td>\n      <td>bn44oh</td>\n      <td>43.0</td>\n      <td>fulfilled</td>\n      <td>5093 Bryan Forks\\nJoshuaton, FM 01565-9801</td>\n      <td>m52tx8e1s</td>\n      <td>False</td>\n      <td>card</td>\n      <td>Mastercard</td>\n      <td>Vertex Bancorp</td>\n      <td>a33145ss</td>\n      <td>bn44oh</td>\n      <td>y3xp697jx</td>\n      <td>43</td>\n      <td>True</td>\n      <td>True</td>\n    </tr>\n  </tbody>\n</table>\n</div>"
     },
     "execution_count": 9,
     "metadata": {},
     "output_type": "execute_result"
    }
   ],
   "source": [
    "data = pd.concat([customers_df, orders_df, payments_df, transactions_df, fraudulent_df], axis=1)\n",
    "data.head()"
   ],
   "metadata": {
    "collapsed": false,
    "ExecuteTime": {
     "end_time": "2023-06-12T00:26:57.596042812Z",
     "start_time": "2023-06-12T00:26:57.408222783Z"
    }
   }
  },
  {
   "cell_type": "code",
   "execution_count": 10,
   "outputs": [
    {
     "data": {
      "text/plain": "                            variable  q_nan     p_nan  q_zeros   p_zeros  \\\n0                      customerEmail    455  0.730337        0  0.000000   \n1                      customerPhone    455  0.730337        0  0.000000   \n2                     customerDevice    455  0.730337        0  0.000000   \n3                  customerIPAddress    455  0.730337        0  0.000000   \n4             customerBillingAddress    455  0.730337        0  0.000000   \n5                            orderId    145  0.232745        0  0.000000   \n6                        orderAmount    145  0.232745        0  0.000000   \n7                         orderState    145  0.232745        0  0.000000   \n8               orderShippingAddress    145  0.232745        0  0.000000   \n9                    paymentMethodId    281  0.451043        0  0.000000   \n10  paymentMethodRegistrationFailure    281  0.451043      302  0.484751   \n11                 paymentMethodType    281  0.451043        0  0.000000   \n12             paymentMethodProvider    281  0.451043        0  0.000000   \n13               paymentMethodIssuer    281  0.451043        0  0.000000   \n14                     transactionId      0  0.000000        0  0.000000   \n15                           orderId      0  0.000000        0  0.000000   \n16                   paymentMethodId      0  0.000000        0  0.000000   \n17                 transactionAmount      0  0.000000        0  0.000000   \n18                 transactionFailed      0  0.000000      455  0.730337   \n19                        fraudulent    455  0.730337      107  0.171750   \n\n    unique     type  \n0      161   object  \n1      168   object  \n2      168   object  \n3      165   object  \n4      166   object  \n5      478   object  \n6       67  float64  \n7        3   object  \n8      274   object  \n9      342   object  \n10       2   object  \n11       4   object  \n12      10   object  \n13      20   object  \n14     623   object  \n15     478   object  \n16     237   object  \n17      67    int64  \n18       2     bool  \n19       2   object  ",
      "text/html": "<div>\n<style scoped>\n    .dataframe tbody tr th:only-of-type {\n        vertical-align: middle;\n    }\n\n    .dataframe tbody tr th {\n        vertical-align: top;\n    }\n\n    .dataframe thead th {\n        text-align: right;\n    }\n</style>\n<table border=\"1\" class=\"dataframe\">\n  <thead>\n    <tr style=\"text-align: right;\">\n      <th></th>\n      <th>variable</th>\n      <th>q_nan</th>\n      <th>p_nan</th>\n      <th>q_zeros</th>\n      <th>p_zeros</th>\n      <th>unique</th>\n      <th>type</th>\n    </tr>\n  </thead>\n  <tbody>\n    <tr>\n      <th>0</th>\n      <td>customerEmail</td>\n      <td>455</td>\n      <td>0.730337</td>\n      <td>0</td>\n      <td>0.000000</td>\n      <td>161</td>\n      <td>object</td>\n    </tr>\n    <tr>\n      <th>1</th>\n      <td>customerPhone</td>\n      <td>455</td>\n      <td>0.730337</td>\n      <td>0</td>\n      <td>0.000000</td>\n      <td>168</td>\n      <td>object</td>\n    </tr>\n    <tr>\n      <th>2</th>\n      <td>customerDevice</td>\n      <td>455</td>\n      <td>0.730337</td>\n      <td>0</td>\n      <td>0.000000</td>\n      <td>168</td>\n      <td>object</td>\n    </tr>\n    <tr>\n      <th>3</th>\n      <td>customerIPAddress</td>\n      <td>455</td>\n      <td>0.730337</td>\n      <td>0</td>\n      <td>0.000000</td>\n      <td>165</td>\n      <td>object</td>\n    </tr>\n    <tr>\n      <th>4</th>\n      <td>customerBillingAddress</td>\n      <td>455</td>\n      <td>0.730337</td>\n      <td>0</td>\n      <td>0.000000</td>\n      <td>166</td>\n      <td>object</td>\n    </tr>\n    <tr>\n      <th>5</th>\n      <td>orderId</td>\n      <td>145</td>\n      <td>0.232745</td>\n      <td>0</td>\n      <td>0.000000</td>\n      <td>478</td>\n      <td>object</td>\n    </tr>\n    <tr>\n      <th>6</th>\n      <td>orderAmount</td>\n      <td>145</td>\n      <td>0.232745</td>\n      <td>0</td>\n      <td>0.000000</td>\n      <td>67</td>\n      <td>float64</td>\n    </tr>\n    <tr>\n      <th>7</th>\n      <td>orderState</td>\n      <td>145</td>\n      <td>0.232745</td>\n      <td>0</td>\n      <td>0.000000</td>\n      <td>3</td>\n      <td>object</td>\n    </tr>\n    <tr>\n      <th>8</th>\n      <td>orderShippingAddress</td>\n      <td>145</td>\n      <td>0.232745</td>\n      <td>0</td>\n      <td>0.000000</td>\n      <td>274</td>\n      <td>object</td>\n    </tr>\n    <tr>\n      <th>9</th>\n      <td>paymentMethodId</td>\n      <td>281</td>\n      <td>0.451043</td>\n      <td>0</td>\n      <td>0.000000</td>\n      <td>342</td>\n      <td>object</td>\n    </tr>\n    <tr>\n      <th>10</th>\n      <td>paymentMethodRegistrationFailure</td>\n      <td>281</td>\n      <td>0.451043</td>\n      <td>302</td>\n      <td>0.484751</td>\n      <td>2</td>\n      <td>object</td>\n    </tr>\n    <tr>\n      <th>11</th>\n      <td>paymentMethodType</td>\n      <td>281</td>\n      <td>0.451043</td>\n      <td>0</td>\n      <td>0.000000</td>\n      <td>4</td>\n      <td>object</td>\n    </tr>\n    <tr>\n      <th>12</th>\n      <td>paymentMethodProvider</td>\n      <td>281</td>\n      <td>0.451043</td>\n      <td>0</td>\n      <td>0.000000</td>\n      <td>10</td>\n      <td>object</td>\n    </tr>\n    <tr>\n      <th>13</th>\n      <td>paymentMethodIssuer</td>\n      <td>281</td>\n      <td>0.451043</td>\n      <td>0</td>\n      <td>0.000000</td>\n      <td>20</td>\n      <td>object</td>\n    </tr>\n    <tr>\n      <th>14</th>\n      <td>transactionId</td>\n      <td>0</td>\n      <td>0.000000</td>\n      <td>0</td>\n      <td>0.000000</td>\n      <td>623</td>\n      <td>object</td>\n    </tr>\n    <tr>\n      <th>15</th>\n      <td>orderId</td>\n      <td>0</td>\n      <td>0.000000</td>\n      <td>0</td>\n      <td>0.000000</td>\n      <td>478</td>\n      <td>object</td>\n    </tr>\n    <tr>\n      <th>16</th>\n      <td>paymentMethodId</td>\n      <td>0</td>\n      <td>0.000000</td>\n      <td>0</td>\n      <td>0.000000</td>\n      <td>237</td>\n      <td>object</td>\n    </tr>\n    <tr>\n      <th>17</th>\n      <td>transactionAmount</td>\n      <td>0</td>\n      <td>0.000000</td>\n      <td>0</td>\n      <td>0.000000</td>\n      <td>67</td>\n      <td>int64</td>\n    </tr>\n    <tr>\n      <th>18</th>\n      <td>transactionFailed</td>\n      <td>0</td>\n      <td>0.000000</td>\n      <td>455</td>\n      <td>0.730337</td>\n      <td>2</td>\n      <td>bool</td>\n    </tr>\n    <tr>\n      <th>19</th>\n      <td>fraudulent</td>\n      <td>455</td>\n      <td>0.730337</td>\n      <td>107</td>\n      <td>0.171750</td>\n      <td>2</td>\n      <td>object</td>\n    </tr>\n  </tbody>\n</table>\n</div>"
     },
     "execution_count": 10,
     "metadata": {},
     "output_type": "execute_result"
    }
   ],
   "source": [
    "from funpymodeling import status\n",
    "status(data)"
   ],
   "metadata": {
    "collapsed": false,
    "ExecuteTime": {
     "end_time": "2023-06-12T00:26:58.786348523Z",
     "start_time": "2023-06-12T00:26:57.409872159Z"
    }
   }
  },
  {
   "cell_type": "markdown",
   "source": [
    "## 9. Eliminar columnas duplicadas"
   ],
   "metadata": {
    "collapsed": false
   }
  },
  {
   "cell_type": "code",
   "execution_count": 11,
   "outputs": [
    {
     "data": {
      "text/plain": "                            variable  q_nan     p_nan  q_zeros   p_zeros  \\\n0                      customerEmail    455  0.730337        0  0.000000   \n1                      customerPhone    455  0.730337        0  0.000000   \n2                     customerDevice    455  0.730337        0  0.000000   \n3                  customerIPAddress    455  0.730337        0  0.000000   \n4             customerBillingAddress    455  0.730337        0  0.000000   \n5                            orderId    145  0.232745        0  0.000000   \n6                        orderAmount    145  0.232745        0  0.000000   \n7                         orderState    145  0.232745        0  0.000000   \n8               orderShippingAddress    145  0.232745        0  0.000000   \n9                    paymentMethodId    281  0.451043        0  0.000000   \n10  paymentMethodRegistrationFailure    281  0.451043      302  0.484751   \n11                 paymentMethodType    281  0.451043        0  0.000000   \n12             paymentMethodProvider    281  0.451043        0  0.000000   \n13               paymentMethodIssuer    281  0.451043        0  0.000000   \n14                     transactionId      0  0.000000        0  0.000000   \n15                 transactionAmount      0  0.000000        0  0.000000   \n16                 transactionFailed      0  0.000000      455  0.730337   \n17                        fraudulent    455  0.730337      107  0.171750   \n\n    unique     type  \n0      161   object  \n1      168   object  \n2      168   object  \n3      165   object  \n4      166   object  \n5      478   object  \n6       67  float64  \n7        3   object  \n8      274   object  \n9      342   object  \n10       2   object  \n11       4   object  \n12      10   object  \n13      20   object  \n14     623   object  \n15      67    int64  \n16       2     bool  \n17       2   object  ",
      "text/html": "<div>\n<style scoped>\n    .dataframe tbody tr th:only-of-type {\n        vertical-align: middle;\n    }\n\n    .dataframe tbody tr th {\n        vertical-align: top;\n    }\n\n    .dataframe thead th {\n        text-align: right;\n    }\n</style>\n<table border=\"1\" class=\"dataframe\">\n  <thead>\n    <tr style=\"text-align: right;\">\n      <th></th>\n      <th>variable</th>\n      <th>q_nan</th>\n      <th>p_nan</th>\n      <th>q_zeros</th>\n      <th>p_zeros</th>\n      <th>unique</th>\n      <th>type</th>\n    </tr>\n  </thead>\n  <tbody>\n    <tr>\n      <th>0</th>\n      <td>customerEmail</td>\n      <td>455</td>\n      <td>0.730337</td>\n      <td>0</td>\n      <td>0.000000</td>\n      <td>161</td>\n      <td>object</td>\n    </tr>\n    <tr>\n      <th>1</th>\n      <td>customerPhone</td>\n      <td>455</td>\n      <td>0.730337</td>\n      <td>0</td>\n      <td>0.000000</td>\n      <td>168</td>\n      <td>object</td>\n    </tr>\n    <tr>\n      <th>2</th>\n      <td>customerDevice</td>\n      <td>455</td>\n      <td>0.730337</td>\n      <td>0</td>\n      <td>0.000000</td>\n      <td>168</td>\n      <td>object</td>\n    </tr>\n    <tr>\n      <th>3</th>\n      <td>customerIPAddress</td>\n      <td>455</td>\n      <td>0.730337</td>\n      <td>0</td>\n      <td>0.000000</td>\n      <td>165</td>\n      <td>object</td>\n    </tr>\n    <tr>\n      <th>4</th>\n      <td>customerBillingAddress</td>\n      <td>455</td>\n      <td>0.730337</td>\n      <td>0</td>\n      <td>0.000000</td>\n      <td>166</td>\n      <td>object</td>\n    </tr>\n    <tr>\n      <th>5</th>\n      <td>orderId</td>\n      <td>145</td>\n      <td>0.232745</td>\n      <td>0</td>\n      <td>0.000000</td>\n      <td>478</td>\n      <td>object</td>\n    </tr>\n    <tr>\n      <th>6</th>\n      <td>orderAmount</td>\n      <td>145</td>\n      <td>0.232745</td>\n      <td>0</td>\n      <td>0.000000</td>\n      <td>67</td>\n      <td>float64</td>\n    </tr>\n    <tr>\n      <th>7</th>\n      <td>orderState</td>\n      <td>145</td>\n      <td>0.232745</td>\n      <td>0</td>\n      <td>0.000000</td>\n      <td>3</td>\n      <td>object</td>\n    </tr>\n    <tr>\n      <th>8</th>\n      <td>orderShippingAddress</td>\n      <td>145</td>\n      <td>0.232745</td>\n      <td>0</td>\n      <td>0.000000</td>\n      <td>274</td>\n      <td>object</td>\n    </tr>\n    <tr>\n      <th>9</th>\n      <td>paymentMethodId</td>\n      <td>281</td>\n      <td>0.451043</td>\n      <td>0</td>\n      <td>0.000000</td>\n      <td>342</td>\n      <td>object</td>\n    </tr>\n    <tr>\n      <th>10</th>\n      <td>paymentMethodRegistrationFailure</td>\n      <td>281</td>\n      <td>0.451043</td>\n      <td>302</td>\n      <td>0.484751</td>\n      <td>2</td>\n      <td>object</td>\n    </tr>\n    <tr>\n      <th>11</th>\n      <td>paymentMethodType</td>\n      <td>281</td>\n      <td>0.451043</td>\n      <td>0</td>\n      <td>0.000000</td>\n      <td>4</td>\n      <td>object</td>\n    </tr>\n    <tr>\n      <th>12</th>\n      <td>paymentMethodProvider</td>\n      <td>281</td>\n      <td>0.451043</td>\n      <td>0</td>\n      <td>0.000000</td>\n      <td>10</td>\n      <td>object</td>\n    </tr>\n    <tr>\n      <th>13</th>\n      <td>paymentMethodIssuer</td>\n      <td>281</td>\n      <td>0.451043</td>\n      <td>0</td>\n      <td>0.000000</td>\n      <td>20</td>\n      <td>object</td>\n    </tr>\n    <tr>\n      <th>14</th>\n      <td>transactionId</td>\n      <td>0</td>\n      <td>0.000000</td>\n      <td>0</td>\n      <td>0.000000</td>\n      <td>623</td>\n      <td>object</td>\n    </tr>\n    <tr>\n      <th>15</th>\n      <td>transactionAmount</td>\n      <td>0</td>\n      <td>0.000000</td>\n      <td>0</td>\n      <td>0.000000</td>\n      <td>67</td>\n      <td>int64</td>\n    </tr>\n    <tr>\n      <th>16</th>\n      <td>transactionFailed</td>\n      <td>0</td>\n      <td>0.000000</td>\n      <td>455</td>\n      <td>0.730337</td>\n      <td>2</td>\n      <td>bool</td>\n    </tr>\n    <tr>\n      <th>17</th>\n      <td>fraudulent</td>\n      <td>455</td>\n      <td>0.730337</td>\n      <td>107</td>\n      <td>0.171750</td>\n      <td>2</td>\n      <td>object</td>\n    </tr>\n  </tbody>\n</table>\n</div>"
     },
     "execution_count": 11,
     "metadata": {},
     "output_type": "execute_result"
    }
   ],
   "source": [
    "data = data.loc[:,~data.columns.duplicated()].copy()\n",
    "status(data)"
   ],
   "metadata": {
    "collapsed": false,
    "ExecuteTime": {
     "end_time": "2023-06-12T00:26:58.867825684Z",
     "start_time": "2023-06-12T00:26:58.787673296Z"
    }
   }
  },
  {
   "cell_type": "markdown",
   "source": [
    "## 10. Extraer proveedor y dominio de email"
   ],
   "metadata": {
    "collapsed": false
   }
  },
  {
   "cell_type": "code",
   "execution_count": 12,
   "outputs": [
    {
     "data": {
      "text/plain": "               customerEmail       customerPhone        customerDevice  \\\n0     josephhoward@yahoo.com        400-108-5415  yyeiaxpltf82440jnb3v   \n1     evansjeffery@yahoo.com      1-788-091-7546  r0jpm7xaeqqa3kr6mzum   \n2  andersonwilliam@yahoo.com        024.420.0375  4m7h5ipl1shyavt6vv2r   \n3      rubenjuarez@yahoo.com  670.664.8168x94985  slovx60t0i558may4ks0   \n4           uchen@malone.com      1-981-877-0870  j0pd24k5h8dl2fqu0cz4   \n\n                         customerIPAddress  \\\n0                             8.129.104.40   \n1                          219.173.211.202   \n2  67b7:3db8:67e0:3bea:b9d0:90c1:2b60:b9f0   \n3  95de:8565:5a66:792c:26e0:6cfb:7d87:11af   \n4                           196.89.235.192   \n\n                              customerBillingAddress orderId  orderAmount  \\\n0            5493 Jones Islands\\nBrownside, CA 51896  vjbdvd         18.0   \n1  356 Elizabeth Inlet Suite 120\\nPort Joshuabury...  yp6x27         26.0   \n2     8478 Sean Ridges Apt. 441\\nDavisberg, PR 72250  nlghpa         45.0   \n3  7769 Elizabeth Bridge Apt. 343\\nNortonstad, FM...  uw0eeb         23.0   \n4  148 Russell Lodge Apt. 445\\nPort Jenniferside,...  bn44oh         43.0   \n\n  orderState                               orderShippingAddress  \\\n0    pending            5493 Jones Islands\\nBrownside, CA 51896   \n1  fulfilled            5493 Jones Islands\\nBrownside, CA 51896   \n2  fulfilled      898 Henry Ports\\nNew Keithview, CA 95893-2497   \n3  fulfilled  356 Elizabeth Inlet Suite 120\\nPort Joshuabury...   \n4  fulfilled         5093 Bryan Forks\\nJoshuaton, FM 01565-9801   \n\n  paymentMethodId paymentMethodRegistrationFailure paymentMethodType  \\\n0       wt07xm68b                             True              card   \n1       y3xp697jx                             True           bitcoin   \n2       6krszxc05                            False              card   \n3       5z1szj2he                            False              card   \n4       m52tx8e1s                            False              card   \n\n         paymentMethodProvider     paymentMethodIssuer transactionId  \\\n0                 JCB 16 digit    Citizens First Banks      a9lcj51r   \n1                VISA 16 digit            Solace Banks      y4wcv03i   \n2                VISA 16 digit          Vertex Bancorp      5mi94sfw   \n3  Diners Club / Carte Blanche  His Majesty Bank Corp.      br8ba1nu   \n4                   Mastercard          Vertex Bancorp      a33145ss   \n\n   transactionAmount  transactionFailed fraudulent emailProvider emailDomain  \n0                 18              False      False         yahoo         com  \n1                 26              False       True         yahoo         com  \n2                 45              False      False         yahoo         com  \n3                 23              False      False         yahoo         com  \n4                 43               True       True         other         com  ",
      "text/html": "<div>\n<style scoped>\n    .dataframe tbody tr th:only-of-type {\n        vertical-align: middle;\n    }\n\n    .dataframe tbody tr th {\n        vertical-align: top;\n    }\n\n    .dataframe thead th {\n        text-align: right;\n    }\n</style>\n<table border=\"1\" class=\"dataframe\">\n  <thead>\n    <tr style=\"text-align: right;\">\n      <th></th>\n      <th>customerEmail</th>\n      <th>customerPhone</th>\n      <th>customerDevice</th>\n      <th>customerIPAddress</th>\n      <th>customerBillingAddress</th>\n      <th>orderId</th>\n      <th>orderAmount</th>\n      <th>orderState</th>\n      <th>orderShippingAddress</th>\n      <th>paymentMethodId</th>\n      <th>paymentMethodRegistrationFailure</th>\n      <th>paymentMethodType</th>\n      <th>paymentMethodProvider</th>\n      <th>paymentMethodIssuer</th>\n      <th>transactionId</th>\n      <th>transactionAmount</th>\n      <th>transactionFailed</th>\n      <th>fraudulent</th>\n      <th>emailProvider</th>\n      <th>emailDomain</th>\n    </tr>\n  </thead>\n  <tbody>\n    <tr>\n      <th>0</th>\n      <td>josephhoward@yahoo.com</td>\n      <td>400-108-5415</td>\n      <td>yyeiaxpltf82440jnb3v</td>\n      <td>8.129.104.40</td>\n      <td>5493 Jones Islands\\nBrownside, CA 51896</td>\n      <td>vjbdvd</td>\n      <td>18.0</td>\n      <td>pending</td>\n      <td>5493 Jones Islands\\nBrownside, CA 51896</td>\n      <td>wt07xm68b</td>\n      <td>True</td>\n      <td>card</td>\n      <td>JCB 16 digit</td>\n      <td>Citizens First Banks</td>\n      <td>a9lcj51r</td>\n      <td>18</td>\n      <td>False</td>\n      <td>False</td>\n      <td>yahoo</td>\n      <td>com</td>\n    </tr>\n    <tr>\n      <th>1</th>\n      <td>evansjeffery@yahoo.com</td>\n      <td>1-788-091-7546</td>\n      <td>r0jpm7xaeqqa3kr6mzum</td>\n      <td>219.173.211.202</td>\n      <td>356 Elizabeth Inlet Suite 120\\nPort Joshuabury...</td>\n      <td>yp6x27</td>\n      <td>26.0</td>\n      <td>fulfilled</td>\n      <td>5493 Jones Islands\\nBrownside, CA 51896</td>\n      <td>y3xp697jx</td>\n      <td>True</td>\n      <td>bitcoin</td>\n      <td>VISA 16 digit</td>\n      <td>Solace Banks</td>\n      <td>y4wcv03i</td>\n      <td>26</td>\n      <td>False</td>\n      <td>True</td>\n      <td>yahoo</td>\n      <td>com</td>\n    </tr>\n    <tr>\n      <th>2</th>\n      <td>andersonwilliam@yahoo.com</td>\n      <td>024.420.0375</td>\n      <td>4m7h5ipl1shyavt6vv2r</td>\n      <td>67b7:3db8:67e0:3bea:b9d0:90c1:2b60:b9f0</td>\n      <td>8478 Sean Ridges Apt. 441\\nDavisberg, PR 72250</td>\n      <td>nlghpa</td>\n      <td>45.0</td>\n      <td>fulfilled</td>\n      <td>898 Henry Ports\\nNew Keithview, CA 95893-2497</td>\n      <td>6krszxc05</td>\n      <td>False</td>\n      <td>card</td>\n      <td>VISA 16 digit</td>\n      <td>Vertex Bancorp</td>\n      <td>5mi94sfw</td>\n      <td>45</td>\n      <td>False</td>\n      <td>False</td>\n      <td>yahoo</td>\n      <td>com</td>\n    </tr>\n    <tr>\n      <th>3</th>\n      <td>rubenjuarez@yahoo.com</td>\n      <td>670.664.8168x94985</td>\n      <td>slovx60t0i558may4ks0</td>\n      <td>95de:8565:5a66:792c:26e0:6cfb:7d87:11af</td>\n      <td>7769 Elizabeth Bridge Apt. 343\\nNortonstad, FM...</td>\n      <td>uw0eeb</td>\n      <td>23.0</td>\n      <td>fulfilled</td>\n      <td>356 Elizabeth Inlet Suite 120\\nPort Joshuabury...</td>\n      <td>5z1szj2he</td>\n      <td>False</td>\n      <td>card</td>\n      <td>Diners Club / Carte Blanche</td>\n      <td>His Majesty Bank Corp.</td>\n      <td>br8ba1nu</td>\n      <td>23</td>\n      <td>False</td>\n      <td>False</td>\n      <td>yahoo</td>\n      <td>com</td>\n    </tr>\n    <tr>\n      <th>4</th>\n      <td>uchen@malone.com</td>\n      <td>1-981-877-0870</td>\n      <td>j0pd24k5h8dl2fqu0cz4</td>\n      <td>196.89.235.192</td>\n      <td>148 Russell Lodge Apt. 445\\nPort Jenniferside,...</td>\n      <td>bn44oh</td>\n      <td>43.0</td>\n      <td>fulfilled</td>\n      <td>5093 Bryan Forks\\nJoshuaton, FM 01565-9801</td>\n      <td>m52tx8e1s</td>\n      <td>False</td>\n      <td>card</td>\n      <td>Mastercard</td>\n      <td>Vertex Bancorp</td>\n      <td>a33145ss</td>\n      <td>43</td>\n      <td>True</td>\n      <td>True</td>\n      <td>other</td>\n      <td>com</td>\n    </tr>\n  </tbody>\n</table>\n</div>"
     },
     "execution_count": 12,
     "metadata": {},
     "output_type": "execute_result"
    }
   ],
   "source": [
    "def get_provider(email):\n",
    "    try:\n",
    "        aux = email.split('@')[1]\n",
    "        provider = aux.split('.')[0]\n",
    "    except:\n",
    "        return 'weird'\n",
    "\n",
    "    if provider in ['gmail', 'yahoo', 'hotmail']:\n",
    "        return provider\n",
    "    return 'other'\n",
    "\n",
    "\n",
    "def get_domain(email):\n",
    "    try:\n",
    "        aux = email.split('@')[1]\n",
    "        domain = aux.split('.')[1]\n",
    "    except:\n",
    "        return 'weird'\n",
    "\n",
    "    return domain\n",
    "\n",
    "\n",
    "data['emailProvider'] = data['customerEmail'].apply(get_provider)\n",
    "data['emailDomain'] = data['customerEmail'].apply(get_domain)\n",
    "data.head()"
   ],
   "metadata": {
    "collapsed": false,
    "ExecuteTime": {
     "end_time": "2023-06-12T00:26:58.995767130Z",
     "start_time": "2023-06-12T00:26:58.854850124Z"
    }
   }
  },
  {
   "cell_type": "markdown",
   "source": [
    "## 11. Eliminamos la columna customerEmail"
   ],
   "metadata": {
    "collapsed": false
   }
  },
  {
   "cell_type": "code",
   "execution_count": 13,
   "outputs": [
    {
     "data": {
      "text/plain": "                            variable  q_nan     p_nan  q_zeros   p_zeros  \\\n0                      customerPhone    455  0.730337        0  0.000000   \n1                     customerDevice    455  0.730337        0  0.000000   \n2                  customerIPAddress    455  0.730337        0  0.000000   \n3             customerBillingAddress    455  0.730337        0  0.000000   \n4                            orderId    145  0.232745        0  0.000000   \n5                        orderAmount    145  0.232745        0  0.000000   \n6                         orderState    145  0.232745        0  0.000000   \n7               orderShippingAddress    145  0.232745        0  0.000000   \n8                    paymentMethodId    281  0.451043        0  0.000000   \n9   paymentMethodRegistrationFailure    281  0.451043      302  0.484751   \n10                 paymentMethodType    281  0.451043        0  0.000000   \n11             paymentMethodProvider    281  0.451043        0  0.000000   \n12               paymentMethodIssuer    281  0.451043        0  0.000000   \n13                     transactionId      0  0.000000        0  0.000000   \n14                 transactionAmount      0  0.000000        0  0.000000   \n15                 transactionFailed      0  0.000000      455  0.730337   \n16                        fraudulent    455  0.730337      107  0.171750   \n17                     emailProvider      0  0.000000        0  0.000000   \n18                       emailDomain      0  0.000000        0  0.000000   \n\n    unique     type  \n0      168   object  \n1      168   object  \n2      165   object  \n3      166   object  \n4      478   object  \n5       67  float64  \n6        3   object  \n7      274   object  \n8      342   object  \n9        2   object  \n10       4   object  \n11      10   object  \n12      20   object  \n13     623   object  \n14      67    int64  \n15       2     bool  \n16       2   object  \n17       5   object  \n18       6   object  ",
      "text/html": "<div>\n<style scoped>\n    .dataframe tbody tr th:only-of-type {\n        vertical-align: middle;\n    }\n\n    .dataframe tbody tr th {\n        vertical-align: top;\n    }\n\n    .dataframe thead th {\n        text-align: right;\n    }\n</style>\n<table border=\"1\" class=\"dataframe\">\n  <thead>\n    <tr style=\"text-align: right;\">\n      <th></th>\n      <th>variable</th>\n      <th>q_nan</th>\n      <th>p_nan</th>\n      <th>q_zeros</th>\n      <th>p_zeros</th>\n      <th>unique</th>\n      <th>type</th>\n    </tr>\n  </thead>\n  <tbody>\n    <tr>\n      <th>0</th>\n      <td>customerPhone</td>\n      <td>455</td>\n      <td>0.730337</td>\n      <td>0</td>\n      <td>0.000000</td>\n      <td>168</td>\n      <td>object</td>\n    </tr>\n    <tr>\n      <th>1</th>\n      <td>customerDevice</td>\n      <td>455</td>\n      <td>0.730337</td>\n      <td>0</td>\n      <td>0.000000</td>\n      <td>168</td>\n      <td>object</td>\n    </tr>\n    <tr>\n      <th>2</th>\n      <td>customerIPAddress</td>\n      <td>455</td>\n      <td>0.730337</td>\n      <td>0</td>\n      <td>0.000000</td>\n      <td>165</td>\n      <td>object</td>\n    </tr>\n    <tr>\n      <th>3</th>\n      <td>customerBillingAddress</td>\n      <td>455</td>\n      <td>0.730337</td>\n      <td>0</td>\n      <td>0.000000</td>\n      <td>166</td>\n      <td>object</td>\n    </tr>\n    <tr>\n      <th>4</th>\n      <td>orderId</td>\n      <td>145</td>\n      <td>0.232745</td>\n      <td>0</td>\n      <td>0.000000</td>\n      <td>478</td>\n      <td>object</td>\n    </tr>\n    <tr>\n      <th>5</th>\n      <td>orderAmount</td>\n      <td>145</td>\n      <td>0.232745</td>\n      <td>0</td>\n      <td>0.000000</td>\n      <td>67</td>\n      <td>float64</td>\n    </tr>\n    <tr>\n      <th>6</th>\n      <td>orderState</td>\n      <td>145</td>\n      <td>0.232745</td>\n      <td>0</td>\n      <td>0.000000</td>\n      <td>3</td>\n      <td>object</td>\n    </tr>\n    <tr>\n      <th>7</th>\n      <td>orderShippingAddress</td>\n      <td>145</td>\n      <td>0.232745</td>\n      <td>0</td>\n      <td>0.000000</td>\n      <td>274</td>\n      <td>object</td>\n    </tr>\n    <tr>\n      <th>8</th>\n      <td>paymentMethodId</td>\n      <td>281</td>\n      <td>0.451043</td>\n      <td>0</td>\n      <td>0.000000</td>\n      <td>342</td>\n      <td>object</td>\n    </tr>\n    <tr>\n      <th>9</th>\n      <td>paymentMethodRegistrationFailure</td>\n      <td>281</td>\n      <td>0.451043</td>\n      <td>302</td>\n      <td>0.484751</td>\n      <td>2</td>\n      <td>object</td>\n    </tr>\n    <tr>\n      <th>10</th>\n      <td>paymentMethodType</td>\n      <td>281</td>\n      <td>0.451043</td>\n      <td>0</td>\n      <td>0.000000</td>\n      <td>4</td>\n      <td>object</td>\n    </tr>\n    <tr>\n      <th>11</th>\n      <td>paymentMethodProvider</td>\n      <td>281</td>\n      <td>0.451043</td>\n      <td>0</td>\n      <td>0.000000</td>\n      <td>10</td>\n      <td>object</td>\n    </tr>\n    <tr>\n      <th>12</th>\n      <td>paymentMethodIssuer</td>\n      <td>281</td>\n      <td>0.451043</td>\n      <td>0</td>\n      <td>0.000000</td>\n      <td>20</td>\n      <td>object</td>\n    </tr>\n    <tr>\n      <th>13</th>\n      <td>transactionId</td>\n      <td>0</td>\n      <td>0.000000</td>\n      <td>0</td>\n      <td>0.000000</td>\n      <td>623</td>\n      <td>object</td>\n    </tr>\n    <tr>\n      <th>14</th>\n      <td>transactionAmount</td>\n      <td>0</td>\n      <td>0.000000</td>\n      <td>0</td>\n      <td>0.000000</td>\n      <td>67</td>\n      <td>int64</td>\n    </tr>\n    <tr>\n      <th>15</th>\n      <td>transactionFailed</td>\n      <td>0</td>\n      <td>0.000000</td>\n      <td>455</td>\n      <td>0.730337</td>\n      <td>2</td>\n      <td>bool</td>\n    </tr>\n    <tr>\n      <th>16</th>\n      <td>fraudulent</td>\n      <td>455</td>\n      <td>0.730337</td>\n      <td>107</td>\n      <td>0.171750</td>\n      <td>2</td>\n      <td>object</td>\n    </tr>\n    <tr>\n      <th>17</th>\n      <td>emailProvider</td>\n      <td>0</td>\n      <td>0.000000</td>\n      <td>0</td>\n      <td>0.000000</td>\n      <td>5</td>\n      <td>object</td>\n    </tr>\n    <tr>\n      <th>18</th>\n      <td>emailDomain</td>\n      <td>0</td>\n      <td>0.000000</td>\n      <td>0</td>\n      <td>0.000000</td>\n      <td>6</td>\n      <td>object</td>\n    </tr>\n  </tbody>\n</table>\n</div>"
     },
     "execution_count": 13,
     "metadata": {},
     "output_type": "execute_result"
    }
   ],
   "source": [
    "data = data.drop(['customerEmail'], axis=1)\n",
    "status(data)"
   ],
   "metadata": {
    "collapsed": false,
    "ExecuteTime": {
     "end_time": "2023-06-12T00:26:58.997210616Z",
     "start_time": "2023-06-12T00:26:58.895541682Z"
    }
   }
  },
  {
   "cell_type": "markdown",
   "source": [
    "## 12. IP Address"
   ],
   "metadata": {
    "collapsed": false
   }
  },
  {
   "cell_type": "code",
   "execution_count": 14,
   "outputs": [
    {
     "data": {
      "text/plain": "        customerPhone        customerDevice  \\\n0        400-108-5415  yyeiaxpltf82440jnb3v   \n1      1-788-091-7546  r0jpm7xaeqqa3kr6mzum   \n2        024.420.0375  4m7h5ipl1shyavt6vv2r   \n3  670.664.8168x94985  slovx60t0i558may4ks0   \n4      1-981-877-0870  j0pd24k5h8dl2fqu0cz4   \n\n                         customerIPAddress  \\\n0                             8.129.104.40   \n1                          219.173.211.202   \n2  67b7:3db8:67e0:3bea:b9d0:90c1:2b60:b9f0   \n3  95de:8565:5a66:792c:26e0:6cfb:7d87:11af   \n4                           196.89.235.192   \n\n                              customerBillingAddress orderId  orderAmount  \\\n0            5493 Jones Islands\\nBrownside, CA 51896  vjbdvd         18.0   \n1  356 Elizabeth Inlet Suite 120\\nPort Joshuabury...  yp6x27         26.0   \n2     8478 Sean Ridges Apt. 441\\nDavisberg, PR 72250  nlghpa         45.0   \n3  7769 Elizabeth Bridge Apt. 343\\nNortonstad, FM...  uw0eeb         23.0   \n4  148 Russell Lodge Apt. 445\\nPort Jenniferside,...  bn44oh         43.0   \n\n  orderState                               orderShippingAddress  \\\n0    pending            5493 Jones Islands\\nBrownside, CA 51896   \n1  fulfilled            5493 Jones Islands\\nBrownside, CA 51896   \n2  fulfilled      898 Henry Ports\\nNew Keithview, CA 95893-2497   \n3  fulfilled  356 Elizabeth Inlet Suite 120\\nPort Joshuabury...   \n4  fulfilled         5093 Bryan Forks\\nJoshuaton, FM 01565-9801   \n\n  paymentMethodId paymentMethodRegistrationFailure paymentMethodType  \\\n0       wt07xm68b                             True              card   \n1       y3xp697jx                             True           bitcoin   \n2       6krszxc05                            False              card   \n3       5z1szj2he                            False              card   \n4       m52tx8e1s                            False              card   \n\n         paymentMethodProvider     paymentMethodIssuer transactionId  \\\n0                 JCB 16 digit    Citizens First Banks      a9lcj51r   \n1                VISA 16 digit            Solace Banks      y4wcv03i   \n2                VISA 16 digit          Vertex Bancorp      5mi94sfw   \n3  Diners Club / Carte Blanche  His Majesty Bank Corp.      br8ba1nu   \n4                   Mastercard          Vertex Bancorp      a33145ss   \n\n   transactionAmount  transactionFailed fraudulent emailProvider emailDomain  \\\n0                 18              False      False         yahoo         com   \n1                 26              False       True         yahoo         com   \n2                 45              False      False         yahoo         com   \n3                 23              False      False         yahoo         com   \n4                 43               True       True         other         com   \n\n   customerIPAddressVersion  \n0                       4.0  \n1                       4.0  \n2                       6.0  \n3                       6.0  \n4                       4.0  ",
      "text/html": "<div>\n<style scoped>\n    .dataframe tbody tr th:only-of-type {\n        vertical-align: middle;\n    }\n\n    .dataframe tbody tr th {\n        vertical-align: top;\n    }\n\n    .dataframe thead th {\n        text-align: right;\n    }\n</style>\n<table border=\"1\" class=\"dataframe\">\n  <thead>\n    <tr style=\"text-align: right;\">\n      <th></th>\n      <th>customerPhone</th>\n      <th>customerDevice</th>\n      <th>customerIPAddress</th>\n      <th>customerBillingAddress</th>\n      <th>orderId</th>\n      <th>orderAmount</th>\n      <th>orderState</th>\n      <th>orderShippingAddress</th>\n      <th>paymentMethodId</th>\n      <th>paymentMethodRegistrationFailure</th>\n      <th>paymentMethodType</th>\n      <th>paymentMethodProvider</th>\n      <th>paymentMethodIssuer</th>\n      <th>transactionId</th>\n      <th>transactionAmount</th>\n      <th>transactionFailed</th>\n      <th>fraudulent</th>\n      <th>emailProvider</th>\n      <th>emailDomain</th>\n      <th>customerIPAddressVersion</th>\n    </tr>\n  </thead>\n  <tbody>\n    <tr>\n      <th>0</th>\n      <td>400-108-5415</td>\n      <td>yyeiaxpltf82440jnb3v</td>\n      <td>8.129.104.40</td>\n      <td>5493 Jones Islands\\nBrownside, CA 51896</td>\n      <td>vjbdvd</td>\n      <td>18.0</td>\n      <td>pending</td>\n      <td>5493 Jones Islands\\nBrownside, CA 51896</td>\n      <td>wt07xm68b</td>\n      <td>True</td>\n      <td>card</td>\n      <td>JCB 16 digit</td>\n      <td>Citizens First Banks</td>\n      <td>a9lcj51r</td>\n      <td>18</td>\n      <td>False</td>\n      <td>False</td>\n      <td>yahoo</td>\n      <td>com</td>\n      <td>4.0</td>\n    </tr>\n    <tr>\n      <th>1</th>\n      <td>1-788-091-7546</td>\n      <td>r0jpm7xaeqqa3kr6mzum</td>\n      <td>219.173.211.202</td>\n      <td>356 Elizabeth Inlet Suite 120\\nPort Joshuabury...</td>\n      <td>yp6x27</td>\n      <td>26.0</td>\n      <td>fulfilled</td>\n      <td>5493 Jones Islands\\nBrownside, CA 51896</td>\n      <td>y3xp697jx</td>\n      <td>True</td>\n      <td>bitcoin</td>\n      <td>VISA 16 digit</td>\n      <td>Solace Banks</td>\n      <td>y4wcv03i</td>\n      <td>26</td>\n      <td>False</td>\n      <td>True</td>\n      <td>yahoo</td>\n      <td>com</td>\n      <td>4.0</td>\n    </tr>\n    <tr>\n      <th>2</th>\n      <td>024.420.0375</td>\n      <td>4m7h5ipl1shyavt6vv2r</td>\n      <td>67b7:3db8:67e0:3bea:b9d0:90c1:2b60:b9f0</td>\n      <td>8478 Sean Ridges Apt. 441\\nDavisberg, PR 72250</td>\n      <td>nlghpa</td>\n      <td>45.0</td>\n      <td>fulfilled</td>\n      <td>898 Henry Ports\\nNew Keithview, CA 95893-2497</td>\n      <td>6krszxc05</td>\n      <td>False</td>\n      <td>card</td>\n      <td>VISA 16 digit</td>\n      <td>Vertex Bancorp</td>\n      <td>5mi94sfw</td>\n      <td>45</td>\n      <td>False</td>\n      <td>False</td>\n      <td>yahoo</td>\n      <td>com</td>\n      <td>6.0</td>\n    </tr>\n    <tr>\n      <th>3</th>\n      <td>670.664.8168x94985</td>\n      <td>slovx60t0i558may4ks0</td>\n      <td>95de:8565:5a66:792c:26e0:6cfb:7d87:11af</td>\n      <td>7769 Elizabeth Bridge Apt. 343\\nNortonstad, FM...</td>\n      <td>uw0eeb</td>\n      <td>23.0</td>\n      <td>fulfilled</td>\n      <td>356 Elizabeth Inlet Suite 120\\nPort Joshuabury...</td>\n      <td>5z1szj2he</td>\n      <td>False</td>\n      <td>card</td>\n      <td>Diners Club / Carte Blanche</td>\n      <td>His Majesty Bank Corp.</td>\n      <td>br8ba1nu</td>\n      <td>23</td>\n      <td>False</td>\n      <td>False</td>\n      <td>yahoo</td>\n      <td>com</td>\n      <td>6.0</td>\n    </tr>\n    <tr>\n      <th>4</th>\n      <td>1-981-877-0870</td>\n      <td>j0pd24k5h8dl2fqu0cz4</td>\n      <td>196.89.235.192</td>\n      <td>148 Russell Lodge Apt. 445\\nPort Jenniferside,...</td>\n      <td>bn44oh</td>\n      <td>43.0</td>\n      <td>fulfilled</td>\n      <td>5093 Bryan Forks\\nJoshuaton, FM 01565-9801</td>\n      <td>m52tx8e1s</td>\n      <td>False</td>\n      <td>card</td>\n      <td>Mastercard</td>\n      <td>Vertex Bancorp</td>\n      <td>a33145ss</td>\n      <td>43</td>\n      <td>True</td>\n      <td>True</td>\n      <td>other</td>\n      <td>com</td>\n      <td>4.0</td>\n    </tr>\n  </tbody>\n</table>\n</div>"
     },
     "execution_count": 14,
     "metadata": {},
     "output_type": "execute_result"
    }
   ],
   "source": [
    "## Create a function with column customerIPAddress clasify as IPV4 or IPV6, and return the clasification in a new column\n",
    "import ipaddress\n",
    "\n",
    "def get_ip_type(ip):\n",
    "    try:\n",
    "        ipaddress.ip_address(ip)\n",
    "        return ipaddress.ip_address(ip).version\n",
    "    except:\n",
    "        return None\n",
    "\n",
    "data['customerIPAddress'] = data['customerIPAddress'].astype('str')\n",
    "data['customerIPAddressVersion'] = data['customerIPAddress'].apply(get_ip_type)\n",
    "data.head()"
   ],
   "metadata": {
    "collapsed": false,
    "ExecuteTime": {
     "end_time": "2023-06-12T00:26:58.998198499Z",
     "start_time": "2023-06-12T00:26:58.936882633Z"
    }
   }
  },
  {
   "cell_type": "markdown",
   "source": [
    "## 13. Eliminamos la columna customerIPAddress"
   ],
   "metadata": {
    "collapsed": false
   }
  },
  {
   "cell_type": "code",
   "execution_count": 15,
   "outputs": [
    {
     "data": {
      "text/plain": "                            variable  q_nan     p_nan  q_zeros   p_zeros  \\\n0                      customerPhone    455  0.730337        0  0.000000   \n1                     customerDevice    455  0.730337        0  0.000000   \n2             customerBillingAddress    455  0.730337        0  0.000000   \n3                            orderId    145  0.232745        0  0.000000   \n4                        orderAmount    145  0.232745        0  0.000000   \n5                         orderState    145  0.232745        0  0.000000   \n6               orderShippingAddress    145  0.232745        0  0.000000   \n7                    paymentMethodId    281  0.451043        0  0.000000   \n8   paymentMethodRegistrationFailure    281  0.451043      302  0.484751   \n9                  paymentMethodType    281  0.451043        0  0.000000   \n10             paymentMethodProvider    281  0.451043        0  0.000000   \n11               paymentMethodIssuer    281  0.451043        0  0.000000   \n12                     transactionId      0  0.000000        0  0.000000   \n13                 transactionAmount      0  0.000000        0  0.000000   \n14                 transactionFailed      0  0.000000      455  0.730337   \n15                        fraudulent    455  0.730337      107  0.171750   \n16                     emailProvider      0  0.000000        0  0.000000   \n17                       emailDomain      0  0.000000        0  0.000000   \n18          customerIPAddressVersion    455  0.730337        0  0.000000   \n\n    unique     type  \n0      168   object  \n1      168   object  \n2      166   object  \n3      478   object  \n4       67  float64  \n5        3   object  \n6      274   object  \n7      342   object  \n8        2   object  \n9        4   object  \n10      10   object  \n11      20   object  \n12     623   object  \n13      67    int64  \n14       2     bool  \n15       2   object  \n16       5   object  \n17       6   object  \n18       2  float64  ",
      "text/html": "<div>\n<style scoped>\n    .dataframe tbody tr th:only-of-type {\n        vertical-align: middle;\n    }\n\n    .dataframe tbody tr th {\n        vertical-align: top;\n    }\n\n    .dataframe thead th {\n        text-align: right;\n    }\n</style>\n<table border=\"1\" class=\"dataframe\">\n  <thead>\n    <tr style=\"text-align: right;\">\n      <th></th>\n      <th>variable</th>\n      <th>q_nan</th>\n      <th>p_nan</th>\n      <th>q_zeros</th>\n      <th>p_zeros</th>\n      <th>unique</th>\n      <th>type</th>\n    </tr>\n  </thead>\n  <tbody>\n    <tr>\n      <th>0</th>\n      <td>customerPhone</td>\n      <td>455</td>\n      <td>0.730337</td>\n      <td>0</td>\n      <td>0.000000</td>\n      <td>168</td>\n      <td>object</td>\n    </tr>\n    <tr>\n      <th>1</th>\n      <td>customerDevice</td>\n      <td>455</td>\n      <td>0.730337</td>\n      <td>0</td>\n      <td>0.000000</td>\n      <td>168</td>\n      <td>object</td>\n    </tr>\n    <tr>\n      <th>2</th>\n      <td>customerBillingAddress</td>\n      <td>455</td>\n      <td>0.730337</td>\n      <td>0</td>\n      <td>0.000000</td>\n      <td>166</td>\n      <td>object</td>\n    </tr>\n    <tr>\n      <th>3</th>\n      <td>orderId</td>\n      <td>145</td>\n      <td>0.232745</td>\n      <td>0</td>\n      <td>0.000000</td>\n      <td>478</td>\n      <td>object</td>\n    </tr>\n    <tr>\n      <th>4</th>\n      <td>orderAmount</td>\n      <td>145</td>\n      <td>0.232745</td>\n      <td>0</td>\n      <td>0.000000</td>\n      <td>67</td>\n      <td>float64</td>\n    </tr>\n    <tr>\n      <th>5</th>\n      <td>orderState</td>\n      <td>145</td>\n      <td>0.232745</td>\n      <td>0</td>\n      <td>0.000000</td>\n      <td>3</td>\n      <td>object</td>\n    </tr>\n    <tr>\n      <th>6</th>\n      <td>orderShippingAddress</td>\n      <td>145</td>\n      <td>0.232745</td>\n      <td>0</td>\n      <td>0.000000</td>\n      <td>274</td>\n      <td>object</td>\n    </tr>\n    <tr>\n      <th>7</th>\n      <td>paymentMethodId</td>\n      <td>281</td>\n      <td>0.451043</td>\n      <td>0</td>\n      <td>0.000000</td>\n      <td>342</td>\n      <td>object</td>\n    </tr>\n    <tr>\n      <th>8</th>\n      <td>paymentMethodRegistrationFailure</td>\n      <td>281</td>\n      <td>0.451043</td>\n      <td>302</td>\n      <td>0.484751</td>\n      <td>2</td>\n      <td>object</td>\n    </tr>\n    <tr>\n      <th>9</th>\n      <td>paymentMethodType</td>\n      <td>281</td>\n      <td>0.451043</td>\n      <td>0</td>\n      <td>0.000000</td>\n      <td>4</td>\n      <td>object</td>\n    </tr>\n    <tr>\n      <th>10</th>\n      <td>paymentMethodProvider</td>\n      <td>281</td>\n      <td>0.451043</td>\n      <td>0</td>\n      <td>0.000000</td>\n      <td>10</td>\n      <td>object</td>\n    </tr>\n    <tr>\n      <th>11</th>\n      <td>paymentMethodIssuer</td>\n      <td>281</td>\n      <td>0.451043</td>\n      <td>0</td>\n      <td>0.000000</td>\n      <td>20</td>\n      <td>object</td>\n    </tr>\n    <tr>\n      <th>12</th>\n      <td>transactionId</td>\n      <td>0</td>\n      <td>0.000000</td>\n      <td>0</td>\n      <td>0.000000</td>\n      <td>623</td>\n      <td>object</td>\n    </tr>\n    <tr>\n      <th>13</th>\n      <td>transactionAmount</td>\n      <td>0</td>\n      <td>0.000000</td>\n      <td>0</td>\n      <td>0.000000</td>\n      <td>67</td>\n      <td>int64</td>\n    </tr>\n    <tr>\n      <th>14</th>\n      <td>transactionFailed</td>\n      <td>0</td>\n      <td>0.000000</td>\n      <td>455</td>\n      <td>0.730337</td>\n      <td>2</td>\n      <td>bool</td>\n    </tr>\n    <tr>\n      <th>15</th>\n      <td>fraudulent</td>\n      <td>455</td>\n      <td>0.730337</td>\n      <td>107</td>\n      <td>0.171750</td>\n      <td>2</td>\n      <td>object</td>\n    </tr>\n    <tr>\n      <th>16</th>\n      <td>emailProvider</td>\n      <td>0</td>\n      <td>0.000000</td>\n      <td>0</td>\n      <td>0.000000</td>\n      <td>5</td>\n      <td>object</td>\n    </tr>\n    <tr>\n      <th>17</th>\n      <td>emailDomain</td>\n      <td>0</td>\n      <td>0.000000</td>\n      <td>0</td>\n      <td>0.000000</td>\n      <td>6</td>\n      <td>object</td>\n    </tr>\n    <tr>\n      <th>18</th>\n      <td>customerIPAddressVersion</td>\n      <td>455</td>\n      <td>0.730337</td>\n      <td>0</td>\n      <td>0.000000</td>\n      <td>2</td>\n      <td>float64</td>\n    </tr>\n  </tbody>\n</table>\n</div>"
     },
     "execution_count": 15,
     "metadata": {},
     "output_type": "execute_result"
    }
   ],
   "source": [
    "data = data.drop(['customerIPAddress'], axis=1)\n",
    "status(data)"
   ],
   "metadata": {
    "collapsed": false,
    "ExecuteTime": {
     "end_time": "2023-06-12T00:26:59.025837413Z",
     "start_time": "2023-06-12T00:26:58.978944400Z"
    }
   }
  },
  {
   "cell_type": "code",
   "execution_count": 16,
   "outputs": [
    {
     "data": {
      "text/plain": "(623, 19)"
     },
     "execution_count": 16,
     "metadata": {},
     "output_type": "execute_result"
    }
   ],
   "source": [
    "data.shape"
   ],
   "metadata": {
    "collapsed": false,
    "ExecuteTime": {
     "end_time": "2023-06-12T00:26:59.156764901Z",
     "start_time": "2023-06-12T00:26:58.993370511Z"
    }
   }
  },
  {
   "cell_type": "markdown",
   "source": [
    "## 14.customerBillingAddress vrs. orderShippingAddress"
   ],
   "metadata": {
    "collapsed": false
   }
  },
  {
   "cell_type": "code",
   "execution_count": 18,
   "outputs": [],
   "source": [
    "def extract_city_name(df_column):\n",
    "    city_list = []\n",
    "\n",
    "    for address in df_column:\n",
    "        try:\n",
    "            \"\"\"\n",
    "            Si address = \"5493 Jones Islands\\nBrownside, CA 51896\"\n",
    "\n",
    "            aux = \"Brownside, CA 51896\"\n",
    "            city_with_number = \"CA 51896\"\n",
    "            city = \"CA\"\n",
    "            \"\"\"\n",
    "            aux = address.split('\\n')[1]\n",
    "            city_with_number = aux.split(', ')[1]\n",
    "            city = city_with_number.split(' ')[0]\n",
    "\n",
    "            city_list.append(city)\n",
    "\n",
    "        except:\n",
    "            # Sino aparece el nombre de la ciudad asignamos: unknown\n",
    "            city_list.append(\"unknown\")\n",
    "\n",
    "    return city_list"
   ],
   "metadata": {
    "collapsed": false,
    "ExecuteTime": {
     "end_time": "2023-06-12T00:26:59.158418049Z",
     "start_time": "2023-06-12T00:26:59.076056351Z"
    }
   }
  },
  {
   "cell_type": "code",
   "execution_count": 19,
   "outputs": [],
   "source": [
    "data[\"customerBillingAddress\"] = extract_city_name(data[\"customerBillingAddress\"])\n",
    "data[\"orderShippingAddress\"] = extract_city_name(data[\"orderShippingAddress\"])"
   ],
   "metadata": {
    "collapsed": false,
    "ExecuteTime": {
     "end_time": "2023-06-12T00:27:57.383612795Z",
     "start_time": "2023-06-12T00:27:57.360140838Z"
    }
   }
  },
  {
   "cell_type": "code",
   "execution_count": 20,
   "outputs": [
    {
     "data": {
      "text/plain": "        customerPhone        customerDevice customerBillingAddress orderId  \\\n0        400-108-5415  yyeiaxpltf82440jnb3v                     CA  vjbdvd   \n1      1-788-091-7546  r0jpm7xaeqqa3kr6mzum                     NM  yp6x27   \n2        024.420.0375  4m7h5ipl1shyavt6vv2r                     PR  nlghpa   \n3  670.664.8168x94985  slovx60t0i558may4ks0                     FM  uw0eeb   \n4      1-981-877-0870  j0pd24k5h8dl2fqu0cz4                     TN  bn44oh   \n\n   orderAmount orderState orderShippingAddress paymentMethodId  \\\n0         18.0    pending                   CA       wt07xm68b   \n1         26.0  fulfilled                   CA       y3xp697jx   \n2         45.0  fulfilled                   CA       6krszxc05   \n3         23.0  fulfilled                   NM       5z1szj2he   \n4         43.0  fulfilled                   FM       m52tx8e1s   \n\n  paymentMethodRegistrationFailure paymentMethodType  \\\n0                             True              card   \n1                             True           bitcoin   \n2                            False              card   \n3                            False              card   \n4                            False              card   \n\n         paymentMethodProvider     paymentMethodIssuer transactionId  \\\n0                 JCB 16 digit    Citizens First Banks      a9lcj51r   \n1                VISA 16 digit            Solace Banks      y4wcv03i   \n2                VISA 16 digit          Vertex Bancorp      5mi94sfw   \n3  Diners Club / Carte Blanche  His Majesty Bank Corp.      br8ba1nu   \n4                   Mastercard          Vertex Bancorp      a33145ss   \n\n   transactionAmount  transactionFailed fraudulent emailProvider emailDomain  \\\n0                 18              False      False         yahoo         com   \n1                 26              False       True         yahoo         com   \n2                 45              False      False         yahoo         com   \n3                 23              False      False         yahoo         com   \n4                 43               True       True         other         com   \n\n   customerIPAddressVersion  \n0                       4.0  \n1                       4.0  \n2                       6.0  \n3                       6.0  \n4                       4.0  ",
      "text/html": "<div>\n<style scoped>\n    .dataframe tbody tr th:only-of-type {\n        vertical-align: middle;\n    }\n\n    .dataframe tbody tr th {\n        vertical-align: top;\n    }\n\n    .dataframe thead th {\n        text-align: right;\n    }\n</style>\n<table border=\"1\" class=\"dataframe\">\n  <thead>\n    <tr style=\"text-align: right;\">\n      <th></th>\n      <th>customerPhone</th>\n      <th>customerDevice</th>\n      <th>customerBillingAddress</th>\n      <th>orderId</th>\n      <th>orderAmount</th>\n      <th>orderState</th>\n      <th>orderShippingAddress</th>\n      <th>paymentMethodId</th>\n      <th>paymentMethodRegistrationFailure</th>\n      <th>paymentMethodType</th>\n      <th>paymentMethodProvider</th>\n      <th>paymentMethodIssuer</th>\n      <th>transactionId</th>\n      <th>transactionAmount</th>\n      <th>transactionFailed</th>\n      <th>fraudulent</th>\n      <th>emailProvider</th>\n      <th>emailDomain</th>\n      <th>customerIPAddressVersion</th>\n    </tr>\n  </thead>\n  <tbody>\n    <tr>\n      <th>0</th>\n      <td>400-108-5415</td>\n      <td>yyeiaxpltf82440jnb3v</td>\n      <td>CA</td>\n      <td>vjbdvd</td>\n      <td>18.0</td>\n      <td>pending</td>\n      <td>CA</td>\n      <td>wt07xm68b</td>\n      <td>True</td>\n      <td>card</td>\n      <td>JCB 16 digit</td>\n      <td>Citizens First Banks</td>\n      <td>a9lcj51r</td>\n      <td>18</td>\n      <td>False</td>\n      <td>False</td>\n      <td>yahoo</td>\n      <td>com</td>\n      <td>4.0</td>\n    </tr>\n    <tr>\n      <th>1</th>\n      <td>1-788-091-7546</td>\n      <td>r0jpm7xaeqqa3kr6mzum</td>\n      <td>NM</td>\n      <td>yp6x27</td>\n      <td>26.0</td>\n      <td>fulfilled</td>\n      <td>CA</td>\n      <td>y3xp697jx</td>\n      <td>True</td>\n      <td>bitcoin</td>\n      <td>VISA 16 digit</td>\n      <td>Solace Banks</td>\n      <td>y4wcv03i</td>\n      <td>26</td>\n      <td>False</td>\n      <td>True</td>\n      <td>yahoo</td>\n      <td>com</td>\n      <td>4.0</td>\n    </tr>\n    <tr>\n      <th>2</th>\n      <td>024.420.0375</td>\n      <td>4m7h5ipl1shyavt6vv2r</td>\n      <td>PR</td>\n      <td>nlghpa</td>\n      <td>45.0</td>\n      <td>fulfilled</td>\n      <td>CA</td>\n      <td>6krszxc05</td>\n      <td>False</td>\n      <td>card</td>\n      <td>VISA 16 digit</td>\n      <td>Vertex Bancorp</td>\n      <td>5mi94sfw</td>\n      <td>45</td>\n      <td>False</td>\n      <td>False</td>\n      <td>yahoo</td>\n      <td>com</td>\n      <td>6.0</td>\n    </tr>\n    <tr>\n      <th>3</th>\n      <td>670.664.8168x94985</td>\n      <td>slovx60t0i558may4ks0</td>\n      <td>FM</td>\n      <td>uw0eeb</td>\n      <td>23.0</td>\n      <td>fulfilled</td>\n      <td>NM</td>\n      <td>5z1szj2he</td>\n      <td>False</td>\n      <td>card</td>\n      <td>Diners Club / Carte Blanche</td>\n      <td>His Majesty Bank Corp.</td>\n      <td>br8ba1nu</td>\n      <td>23</td>\n      <td>False</td>\n      <td>False</td>\n      <td>yahoo</td>\n      <td>com</td>\n      <td>6.0</td>\n    </tr>\n    <tr>\n      <th>4</th>\n      <td>1-981-877-0870</td>\n      <td>j0pd24k5h8dl2fqu0cz4</td>\n      <td>TN</td>\n      <td>bn44oh</td>\n      <td>43.0</td>\n      <td>fulfilled</td>\n      <td>FM</td>\n      <td>m52tx8e1s</td>\n      <td>False</td>\n      <td>card</td>\n      <td>Mastercard</td>\n      <td>Vertex Bancorp</td>\n      <td>a33145ss</td>\n      <td>43</td>\n      <td>True</td>\n      <td>True</td>\n      <td>other</td>\n      <td>com</td>\n      <td>4.0</td>\n    </tr>\n  </tbody>\n</table>\n</div>"
     },
     "execution_count": 20,
     "metadata": {},
     "output_type": "execute_result"
    }
   ],
   "source": [
    "data.head()"
   ],
   "metadata": {
    "collapsed": false,
    "ExecuteTime": {
     "end_time": "2023-06-12T00:28:01.576688326Z",
     "start_time": "2023-06-12T00:28:01.534207844Z"
    }
   }
  },
  {
   "cell_type": "code",
   "execution_count": 21,
   "outputs": [],
   "source": [
    "same_city = []\n",
    "\n",
    "for index in range(len(data)):\n",
    "    billing_address = data[\"customerBillingAddress\"][index]\n",
    "    order_address = data[\"orderShippingAddress\"][index]\n",
    "\n",
    "    response = \"unknown\"\n",
    "    if billing_address != \"unknown\" and order_address != \"unknown\":\n",
    "        if billing_address == order_address:\n",
    "            response = \"yes\"\n",
    "        else:\n",
    "            response = \"no\"\n",
    "\n",
    "    same_city.append(response)"
   ],
   "metadata": {
    "collapsed": false,
    "ExecuteTime": {
     "end_time": "2023-06-12T00:28:33.614569860Z",
     "start_time": "2023-06-12T00:28:33.568871251Z"
    }
   }
  },
  {
   "cell_type": "code",
   "execution_count": 22,
   "outputs": [],
   "source": [
    "data[\"sameCity\"] = same_city"
   ],
   "metadata": {
    "collapsed": false,
    "ExecuteTime": {
     "end_time": "2023-06-12T00:28:43.372261056Z",
     "start_time": "2023-06-12T00:28:43.345327564Z"
    }
   }
  },
  {
   "cell_type": "code",
   "execution_count": 23,
   "outputs": [
    {
     "data": {
      "text/plain": "        customerPhone        customerDevice customerBillingAddress orderId  \\\n0        400-108-5415  yyeiaxpltf82440jnb3v                     CA  vjbdvd   \n1      1-788-091-7546  r0jpm7xaeqqa3kr6mzum                     NM  yp6x27   \n2        024.420.0375  4m7h5ipl1shyavt6vv2r                     PR  nlghpa   \n3  670.664.8168x94985  slovx60t0i558may4ks0                     FM  uw0eeb   \n4      1-981-877-0870  j0pd24k5h8dl2fqu0cz4                     TN  bn44oh   \n\n   orderAmount orderState orderShippingAddress paymentMethodId  \\\n0         18.0    pending                   CA       wt07xm68b   \n1         26.0  fulfilled                   CA       y3xp697jx   \n2         45.0  fulfilled                   CA       6krszxc05   \n3         23.0  fulfilled                   NM       5z1szj2he   \n4         43.0  fulfilled                   FM       m52tx8e1s   \n\n  paymentMethodRegistrationFailure paymentMethodType  \\\n0                             True              card   \n1                             True           bitcoin   \n2                            False              card   \n3                            False              card   \n4                            False              card   \n\n         paymentMethodProvider     paymentMethodIssuer transactionId  \\\n0                 JCB 16 digit    Citizens First Banks      a9lcj51r   \n1                VISA 16 digit            Solace Banks      y4wcv03i   \n2                VISA 16 digit          Vertex Bancorp      5mi94sfw   \n3  Diners Club / Carte Blanche  His Majesty Bank Corp.      br8ba1nu   \n4                   Mastercard          Vertex Bancorp      a33145ss   \n\n   transactionAmount  transactionFailed fraudulent emailProvider emailDomain  \\\n0                 18              False      False         yahoo         com   \n1                 26              False       True         yahoo         com   \n2                 45              False      False         yahoo         com   \n3                 23              False      False         yahoo         com   \n4                 43               True       True         other         com   \n\n   customerIPAddressVersion sameCity  \n0                       4.0      yes  \n1                       4.0       no  \n2                       6.0       no  \n3                       6.0       no  \n4                       4.0       no  ",
      "text/html": "<div>\n<style scoped>\n    .dataframe tbody tr th:only-of-type {\n        vertical-align: middle;\n    }\n\n    .dataframe tbody tr th {\n        vertical-align: top;\n    }\n\n    .dataframe thead th {\n        text-align: right;\n    }\n</style>\n<table border=\"1\" class=\"dataframe\">\n  <thead>\n    <tr style=\"text-align: right;\">\n      <th></th>\n      <th>customerPhone</th>\n      <th>customerDevice</th>\n      <th>customerBillingAddress</th>\n      <th>orderId</th>\n      <th>orderAmount</th>\n      <th>orderState</th>\n      <th>orderShippingAddress</th>\n      <th>paymentMethodId</th>\n      <th>paymentMethodRegistrationFailure</th>\n      <th>paymentMethodType</th>\n      <th>paymentMethodProvider</th>\n      <th>paymentMethodIssuer</th>\n      <th>transactionId</th>\n      <th>transactionAmount</th>\n      <th>transactionFailed</th>\n      <th>fraudulent</th>\n      <th>emailProvider</th>\n      <th>emailDomain</th>\n      <th>customerIPAddressVersion</th>\n      <th>sameCity</th>\n    </tr>\n  </thead>\n  <tbody>\n    <tr>\n      <th>0</th>\n      <td>400-108-5415</td>\n      <td>yyeiaxpltf82440jnb3v</td>\n      <td>CA</td>\n      <td>vjbdvd</td>\n      <td>18.0</td>\n      <td>pending</td>\n      <td>CA</td>\n      <td>wt07xm68b</td>\n      <td>True</td>\n      <td>card</td>\n      <td>JCB 16 digit</td>\n      <td>Citizens First Banks</td>\n      <td>a9lcj51r</td>\n      <td>18</td>\n      <td>False</td>\n      <td>False</td>\n      <td>yahoo</td>\n      <td>com</td>\n      <td>4.0</td>\n      <td>yes</td>\n    </tr>\n    <tr>\n      <th>1</th>\n      <td>1-788-091-7546</td>\n      <td>r0jpm7xaeqqa3kr6mzum</td>\n      <td>NM</td>\n      <td>yp6x27</td>\n      <td>26.0</td>\n      <td>fulfilled</td>\n      <td>CA</td>\n      <td>y3xp697jx</td>\n      <td>True</td>\n      <td>bitcoin</td>\n      <td>VISA 16 digit</td>\n      <td>Solace Banks</td>\n      <td>y4wcv03i</td>\n      <td>26</td>\n      <td>False</td>\n      <td>True</td>\n      <td>yahoo</td>\n      <td>com</td>\n      <td>4.0</td>\n      <td>no</td>\n    </tr>\n    <tr>\n      <th>2</th>\n      <td>024.420.0375</td>\n      <td>4m7h5ipl1shyavt6vv2r</td>\n      <td>PR</td>\n      <td>nlghpa</td>\n      <td>45.0</td>\n      <td>fulfilled</td>\n      <td>CA</td>\n      <td>6krszxc05</td>\n      <td>False</td>\n      <td>card</td>\n      <td>VISA 16 digit</td>\n      <td>Vertex Bancorp</td>\n      <td>5mi94sfw</td>\n      <td>45</td>\n      <td>False</td>\n      <td>False</td>\n      <td>yahoo</td>\n      <td>com</td>\n      <td>6.0</td>\n      <td>no</td>\n    </tr>\n    <tr>\n      <th>3</th>\n      <td>670.664.8168x94985</td>\n      <td>slovx60t0i558may4ks0</td>\n      <td>FM</td>\n      <td>uw0eeb</td>\n      <td>23.0</td>\n      <td>fulfilled</td>\n      <td>NM</td>\n      <td>5z1szj2he</td>\n      <td>False</td>\n      <td>card</td>\n      <td>Diners Club / Carte Blanche</td>\n      <td>His Majesty Bank Corp.</td>\n      <td>br8ba1nu</td>\n      <td>23</td>\n      <td>False</td>\n      <td>False</td>\n      <td>yahoo</td>\n      <td>com</td>\n      <td>6.0</td>\n      <td>no</td>\n    </tr>\n    <tr>\n      <th>4</th>\n      <td>1-981-877-0870</td>\n      <td>j0pd24k5h8dl2fqu0cz4</td>\n      <td>TN</td>\n      <td>bn44oh</td>\n      <td>43.0</td>\n      <td>fulfilled</td>\n      <td>FM</td>\n      <td>m52tx8e1s</td>\n      <td>False</td>\n      <td>card</td>\n      <td>Mastercard</td>\n      <td>Vertex Bancorp</td>\n      <td>a33145ss</td>\n      <td>43</td>\n      <td>True</td>\n      <td>True</td>\n      <td>other</td>\n      <td>com</td>\n      <td>4.0</td>\n      <td>no</td>\n    </tr>\n  </tbody>\n</table>\n</div>"
     },
     "execution_count": 23,
     "metadata": {},
     "output_type": "execute_result"
    }
   ],
   "source": [
    "data.head()"
   ],
   "metadata": {
    "collapsed": false,
    "ExecuteTime": {
     "end_time": "2023-06-12T00:28:46.460961009Z",
     "start_time": "2023-06-12T00:28:46.443501986Z"
    }
   }
  },
  {
   "cell_type": "code",
   "execution_count": 24,
   "outputs": [],
   "source": [
    "data = data.drop([\"customerBillingAddress\", \"orderShippingAddress\"], axis = 1)"
   ],
   "metadata": {
    "collapsed": false,
    "ExecuteTime": {
     "end_time": "2023-06-12T00:29:06.775211721Z",
     "start_time": "2023-06-12T00:29:06.722230871Z"
    }
   }
  },
  {
   "cell_type": "code",
   "execution_count": 25,
   "outputs": [],
   "source": [
    "data = data.drop(['customerPhone','customerDevice', 'orderId', 'transactionId', 'paymentMethodId'], axis=1)"
   ],
   "metadata": {
    "collapsed": false,
    "ExecuteTime": {
     "end_time": "2023-06-12T00:29:50.069444650Z",
     "start_time": "2023-06-12T00:29:50.040312907Z"
    }
   }
  },
  {
   "cell_type": "code",
   "execution_count": 26,
   "outputs": [
    {
     "data": {
      "text/plain": "   orderAmount orderState paymentMethodRegistrationFailure paymentMethodType  \\\n0         18.0    pending                             True              card   \n1         26.0  fulfilled                             True           bitcoin   \n2         45.0  fulfilled                            False              card   \n3         23.0  fulfilled                            False              card   \n4         43.0  fulfilled                            False              card   \n\n         paymentMethodProvider     paymentMethodIssuer  transactionAmount  \\\n0                 JCB 16 digit    Citizens First Banks                 18   \n1                VISA 16 digit            Solace Banks                 26   \n2                VISA 16 digit          Vertex Bancorp                 45   \n3  Diners Club / Carte Blanche  His Majesty Bank Corp.                 23   \n4                   Mastercard          Vertex Bancorp                 43   \n\n   transactionFailed fraudulent emailProvider emailDomain  \\\n0              False      False         yahoo         com   \n1              False       True         yahoo         com   \n2              False      False         yahoo         com   \n3              False      False         yahoo         com   \n4               True       True         other         com   \n\n   customerIPAddressVersion sameCity  \n0                       4.0      yes  \n1                       4.0       no  \n2                       6.0       no  \n3                       6.0       no  \n4                       4.0       no  ",
      "text/html": "<div>\n<style scoped>\n    .dataframe tbody tr th:only-of-type {\n        vertical-align: middle;\n    }\n\n    .dataframe tbody tr th {\n        vertical-align: top;\n    }\n\n    .dataframe thead th {\n        text-align: right;\n    }\n</style>\n<table border=\"1\" class=\"dataframe\">\n  <thead>\n    <tr style=\"text-align: right;\">\n      <th></th>\n      <th>orderAmount</th>\n      <th>orderState</th>\n      <th>paymentMethodRegistrationFailure</th>\n      <th>paymentMethodType</th>\n      <th>paymentMethodProvider</th>\n      <th>paymentMethodIssuer</th>\n      <th>transactionAmount</th>\n      <th>transactionFailed</th>\n      <th>fraudulent</th>\n      <th>emailProvider</th>\n      <th>emailDomain</th>\n      <th>customerIPAddressVersion</th>\n      <th>sameCity</th>\n    </tr>\n  </thead>\n  <tbody>\n    <tr>\n      <th>0</th>\n      <td>18.0</td>\n      <td>pending</td>\n      <td>True</td>\n      <td>card</td>\n      <td>JCB 16 digit</td>\n      <td>Citizens First Banks</td>\n      <td>18</td>\n      <td>False</td>\n      <td>False</td>\n      <td>yahoo</td>\n      <td>com</td>\n      <td>4.0</td>\n      <td>yes</td>\n    </tr>\n    <tr>\n      <th>1</th>\n      <td>26.0</td>\n      <td>fulfilled</td>\n      <td>True</td>\n      <td>bitcoin</td>\n      <td>VISA 16 digit</td>\n      <td>Solace Banks</td>\n      <td>26</td>\n      <td>False</td>\n      <td>True</td>\n      <td>yahoo</td>\n      <td>com</td>\n      <td>4.0</td>\n      <td>no</td>\n    </tr>\n    <tr>\n      <th>2</th>\n      <td>45.0</td>\n      <td>fulfilled</td>\n      <td>False</td>\n      <td>card</td>\n      <td>VISA 16 digit</td>\n      <td>Vertex Bancorp</td>\n      <td>45</td>\n      <td>False</td>\n      <td>False</td>\n      <td>yahoo</td>\n      <td>com</td>\n      <td>6.0</td>\n      <td>no</td>\n    </tr>\n    <tr>\n      <th>3</th>\n      <td>23.0</td>\n      <td>fulfilled</td>\n      <td>False</td>\n      <td>card</td>\n      <td>Diners Club / Carte Blanche</td>\n      <td>His Majesty Bank Corp.</td>\n      <td>23</td>\n      <td>False</td>\n      <td>False</td>\n      <td>yahoo</td>\n      <td>com</td>\n      <td>6.0</td>\n      <td>no</td>\n    </tr>\n    <tr>\n      <th>4</th>\n      <td>43.0</td>\n      <td>fulfilled</td>\n      <td>False</td>\n      <td>card</td>\n      <td>Mastercard</td>\n      <td>Vertex Bancorp</td>\n      <td>43</td>\n      <td>True</td>\n      <td>True</td>\n      <td>other</td>\n      <td>com</td>\n      <td>4.0</td>\n      <td>no</td>\n    </tr>\n  </tbody>\n</table>\n</div>"
     },
     "execution_count": 26,
     "metadata": {},
     "output_type": "execute_result"
    }
   ],
   "source": [
    "data.head()"
   ],
   "metadata": {
    "collapsed": false,
    "ExecuteTime": {
     "end_time": "2023-06-12T00:29:53.179583055Z",
     "start_time": "2023-06-12T00:29:53.150733723Z"
    }
   }
  },
  {
   "cell_type": "code",
   "execution_count": 27,
   "outputs": [],
   "source": [
    "filename = \"../data/customer_dataset.csv\"\n",
    "data.to_csv(filename, index = False)"
   ],
   "metadata": {
    "collapsed": false,
    "ExecuteTime": {
     "end_time": "2023-06-12T00:30:28.401364509Z",
     "start_time": "2023-06-12T00:30:28.373025391Z"
    }
   }
  },
  {
   "cell_type": "code",
   "execution_count": null,
   "outputs": [],
   "source": [],
   "metadata": {
    "collapsed": false
   }
  }
 ],
 "metadata": {
  "kernelspec": {
   "display_name": "Python 3",
   "language": "python",
   "name": "python3"
  },
  "language_info": {
   "codemirror_mode": {
    "name": "ipython",
    "version": 2
   },
   "file_extension": ".py",
   "mimetype": "text/x-python",
   "name": "python",
   "nbconvert_exporter": "python",
   "pygments_lexer": "ipython2",
   "version": "2.7.6"
  }
 },
 "nbformat": 4,
 "nbformat_minor": 0
}
