{
 "cells": [
  {
   "cell_type": "code",
   "execution_count": 1,
   "metadata": {
    "collapsed": true,
    "ExecuteTime": {
     "end_time": "2023-06-13T00:24:30.459121304Z",
     "start_time": "2023-06-13T00:24:30.159900301Z"
    }
   },
   "outputs": [],
   "source": [
    "import pandas as pd"
   ]
  },
  {
   "cell_type": "code",
   "execution_count": 4,
   "outputs": [
    {
     "data": {
      "text/plain": "   transactionFailed  fraudulent  customerIPAddressVersion  \\\n0              False           0                       4.0   \n1              False           1                       4.0   \n2              False           0                       6.0   \n3              False           0                       6.0   \n4               True           1                       4.0   \n\n   orderAmount_(9.999, 18.4]  orderAmount_(18.4, 30.0]  \\\n0                          1                         0   \n1                          0                         1   \n2                          0                         0   \n3                          0                         1   \n4                          0                         0   \n\n   orderAmount_(30.0, 39.0]  orderAmount_(39.0, 47.0]  \\\n0                         0                         0   \n1                         0                         0   \n2                         0                         1   \n3                         0                         0   \n4                         0                         1   \n\n   orderAmount_(47.0, 353.0]  orderAmount_desconocido  orderAmount_nan  ...  \\\n0                          0                        0                0  ...   \n1                          0                        0                0  ...   \n2                          0                        0                0  ...   \n3                          0                        0                0  ...   \n4                          0                        0                0  ...   \n\n   emailDomain_com  emailDomain_info  emailDomain_net  emailDomain_org  \\\n0                1                 0                0                0   \n1                1                 0                0                0   \n2                1                 0                0                0   \n3                1                 0                0                0   \n4                1                 0                0                0   \n\n   emailDomain_weird  emailDomain_nan  sameCity_no  sameCity_unknown  \\\n0                  0                0            0                 0   \n1                  0                0            1                 0   \n2                  0                0            1                 0   \n3                  0                0            1                 0   \n4                  0                0            1                 0   \n\n   sameCity_yes  sameCity_nan  \n0             1             0  \n1             0             0  \n2             0             0  \n3             0             0  \n4             0             0  \n\n[5 rows x 67 columns]",
      "text/html": "<div>\n<style scoped>\n    .dataframe tbody tr th:only-of-type {\n        vertical-align: middle;\n    }\n\n    .dataframe tbody tr th {\n        vertical-align: top;\n    }\n\n    .dataframe thead th {\n        text-align: right;\n    }\n</style>\n<table border=\"1\" class=\"dataframe\">\n  <thead>\n    <tr style=\"text-align: right;\">\n      <th></th>\n      <th>transactionFailed</th>\n      <th>fraudulent</th>\n      <th>customerIPAddressVersion</th>\n      <th>orderAmount_(9.999, 18.4]</th>\n      <th>orderAmount_(18.4, 30.0]</th>\n      <th>orderAmount_(30.0, 39.0]</th>\n      <th>orderAmount_(39.0, 47.0]</th>\n      <th>orderAmount_(47.0, 353.0]</th>\n      <th>orderAmount_desconocido</th>\n      <th>orderAmount_nan</th>\n      <th>...</th>\n      <th>emailDomain_com</th>\n      <th>emailDomain_info</th>\n      <th>emailDomain_net</th>\n      <th>emailDomain_org</th>\n      <th>emailDomain_weird</th>\n      <th>emailDomain_nan</th>\n      <th>sameCity_no</th>\n      <th>sameCity_unknown</th>\n      <th>sameCity_yes</th>\n      <th>sameCity_nan</th>\n    </tr>\n  </thead>\n  <tbody>\n    <tr>\n      <th>0</th>\n      <td>False</td>\n      <td>0</td>\n      <td>4.0</td>\n      <td>1</td>\n      <td>0</td>\n      <td>0</td>\n      <td>0</td>\n      <td>0</td>\n      <td>0</td>\n      <td>0</td>\n      <td>...</td>\n      <td>1</td>\n      <td>0</td>\n      <td>0</td>\n      <td>0</td>\n      <td>0</td>\n      <td>0</td>\n      <td>0</td>\n      <td>0</td>\n      <td>1</td>\n      <td>0</td>\n    </tr>\n    <tr>\n      <th>1</th>\n      <td>False</td>\n      <td>1</td>\n      <td>4.0</td>\n      <td>0</td>\n      <td>1</td>\n      <td>0</td>\n      <td>0</td>\n      <td>0</td>\n      <td>0</td>\n      <td>0</td>\n      <td>...</td>\n      <td>1</td>\n      <td>0</td>\n      <td>0</td>\n      <td>0</td>\n      <td>0</td>\n      <td>0</td>\n      <td>1</td>\n      <td>0</td>\n      <td>0</td>\n      <td>0</td>\n    </tr>\n    <tr>\n      <th>2</th>\n      <td>False</td>\n      <td>0</td>\n      <td>6.0</td>\n      <td>0</td>\n      <td>0</td>\n      <td>0</td>\n      <td>1</td>\n      <td>0</td>\n      <td>0</td>\n      <td>0</td>\n      <td>...</td>\n      <td>1</td>\n      <td>0</td>\n      <td>0</td>\n      <td>0</td>\n      <td>0</td>\n      <td>0</td>\n      <td>1</td>\n      <td>0</td>\n      <td>0</td>\n      <td>0</td>\n    </tr>\n    <tr>\n      <th>3</th>\n      <td>False</td>\n      <td>0</td>\n      <td>6.0</td>\n      <td>0</td>\n      <td>1</td>\n      <td>0</td>\n      <td>0</td>\n      <td>0</td>\n      <td>0</td>\n      <td>0</td>\n      <td>...</td>\n      <td>1</td>\n      <td>0</td>\n      <td>0</td>\n      <td>0</td>\n      <td>0</td>\n      <td>0</td>\n      <td>1</td>\n      <td>0</td>\n      <td>0</td>\n      <td>0</td>\n    </tr>\n    <tr>\n      <th>4</th>\n      <td>True</td>\n      <td>1</td>\n      <td>4.0</td>\n      <td>0</td>\n      <td>0</td>\n      <td>0</td>\n      <td>1</td>\n      <td>0</td>\n      <td>0</td>\n      <td>0</td>\n      <td>...</td>\n      <td>1</td>\n      <td>0</td>\n      <td>0</td>\n      <td>0</td>\n      <td>0</td>\n      <td>0</td>\n      <td>1</td>\n      <td>0</td>\n      <td>0</td>\n      <td>0</td>\n    </tr>\n  </tbody>\n</table>\n<p>5 rows × 67 columns</p>\n</div>"
     },
     "execution_count": 4,
     "metadata": {},
     "output_type": "execute_result"
    }
   ],
   "source": [
    "data = pd.read_csv(\"../data/ohe_customer_dataset.csv\", sep=\",\")\n",
    "data.head()"
   ],
   "metadata": {
    "collapsed": false,
    "ExecuteTime": {
     "end_time": "2023-06-13T00:25:10.203969140Z",
     "start_time": "2023-06-13T00:25:10.171447565Z"
    }
   }
  },
  {
   "cell_type": "code",
   "execution_count": 5,
   "outputs": [],
   "source": [
    "filter_data = data[[\"orderState_failed\", \"orderState_fulfilled\", \"orderState_pending\", \"transactionFailed\", \"fraudulent\", \"customerIPAddressVersion\"]].copy()"
   ],
   "metadata": {
    "collapsed": false,
    "ExecuteTime": {
     "end_time": "2023-06-13T00:26:01.362194342Z",
     "start_time": "2023-06-13T00:26:01.316750733Z"
    }
   }
  },
  {
   "cell_type": "code",
   "execution_count": null,
   "outputs": [],
   "source": [],
   "metadata": {
    "collapsed": false
   }
  }
 ],
 "metadata": {
  "kernelspec": {
   "display_name": "Python 3",
   "language": "python",
   "name": "python3"
  },
  "language_info": {
   "codemirror_mode": {
    "name": "ipython",
    "version": 2
   },
   "file_extension": ".py",
   "mimetype": "text/x-python",
   "name": "python",
   "nbconvert_exporter": "python",
   "pygments_lexer": "ipython2",
   "version": "2.7.6"
  }
 },
 "nbformat": 4,
 "nbformat_minor": 0
}
