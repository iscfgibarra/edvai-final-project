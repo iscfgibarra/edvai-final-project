{
 "cells": [
  {
   "cell_type": "code",
   "execution_count": 1,
   "metadata": {
    "collapsed": true,
    "ExecuteTime": {
     "end_time": "2023-06-13T00:06:16.994726792Z",
     "start_time": "2023-06-13T00:06:16.659352835Z"
    }
   },
   "outputs": [],
   "source": [
    "import pandas as pd\n",
    "import pickle"
   ]
  },
  {
   "cell_type": "code",
   "execution_count": 2,
   "outputs": [],
   "source": [
    "data = pd.read_csv(\"../data/customer_dataset.csv\", sep=',')"
   ],
   "metadata": {
    "collapsed": false,
    "ExecuteTime": {
     "end_time": "2023-06-13T00:06:17.005675366Z",
     "start_time": "2023-06-13T00:06:16.995954502Z"
    }
   }
  },
  {
   "cell_type": "markdown",
   "source": [
    "## 1 Puntos de corte"
   ],
   "metadata": {
    "collapsed": false
   }
  },
  {
   "cell_type": "code",
   "execution_count": 3,
   "outputs": [],
   "source": [
    "probando = data.copy()"
   ],
   "metadata": {
    "collapsed": false,
    "ExecuteTime": {
     "end_time": "2023-06-13T00:06:17.018983926Z",
     "start_time": "2023-06-13T00:06:17.007289697Z"
    }
   }
  },
  {
   "cell_type": "code",
   "execution_count": 4,
   "outputs": [],
   "source": [
    "data['orderAmount'], saved_bins_order = pd.qcut(data['orderAmount'], q=5, duplicates='drop', retbins=True)"
   ],
   "metadata": {
    "collapsed": false,
    "ExecuteTime": {
     "end_time": "2023-06-13T00:06:17.055399853Z",
     "start_time": "2023-06-13T00:06:17.019593133Z"
    }
   }
  },
  {
   "cell_type": "code",
   "execution_count": 5,
   "outputs": [],
   "source": [
    "with open('../data/saved_bins_order.pickle', 'wb') as handle:\n",
    "  pickle.dump(saved_bins_order, handle, protocol=pickle.HIGHEST_PROTOCOL)"
   ],
   "metadata": {
    "collapsed": false,
    "ExecuteTime": {
     "end_time": "2023-06-13T00:06:17.091647962Z",
     "start_time": "2023-06-13T00:06:17.033786486Z"
    }
   }
  },
  {
   "cell_type": "code",
   "execution_count": 6,
   "outputs": [],
   "source": [
    "data['transactionAmount'], saved_bins_transaction = pd.qcut(data['transactionAmount'], q=4, duplicates='drop', retbins=True)\n",
    "with open('../data/saved_bins_transaction.pickle', 'wb') as handle:\n",
    "  pickle.dump(saved_bins_transaction, handle, protocol=pickle.HIGHEST_PROTOCOL)"
   ],
   "metadata": {
    "collapsed": false,
    "ExecuteTime": {
     "end_time": "2023-06-13T00:06:17.091956950Z",
     "start_time": "2023-06-13T00:06:17.074446131Z"
    }
   }
  },
  {
   "cell_type": "code",
   "execution_count": 7,
   "outputs": [],
   "source": [
    "with open('../data/saved_bins_order.pickle', 'rb') as handle:\n",
    "    new_saved_bins_order = pickle.load(handle)\n",
    "with open('../data/saved_bins_transaction.pickle', 'rb') as handle:\n",
    "    new_saved_bins_transaction = pickle.load(handle)"
   ],
   "metadata": {
    "collapsed": false,
    "ExecuteTime": {
     "end_time": "2023-06-13T00:06:17.092166838Z",
     "start_time": "2023-06-13T00:06:17.074674828Z"
    }
   }
  },
  {
   "cell_type": "code",
   "execution_count": 8,
   "outputs": [],
   "source": [
    "probando[\"orderAmount\"] = pd.cut(\n",
    "    probando['orderAmount'],\n",
    "    bins=new_saved_bins_order,\n",
    "    include_lowest=True) # importante para que coincidan todos"
   ],
   "metadata": {
    "collapsed": false,
    "ExecuteTime": {
     "end_time": "2023-06-13T00:06:17.092290374Z",
     "start_time": "2023-06-13T00:06:17.074817981Z"
    }
   }
  },
  {
   "cell_type": "code",
   "execution_count": 9,
   "outputs": [
    {
     "data": {
      "text/plain": "     orderAmount orderState paymentMethodRegistrationFailure  \\\n0  (9.999, 18.4]    pending                             True   \n1   (18.4, 30.0]  fulfilled                             True   \n2   (39.0, 47.0]  fulfilled                            False   \n\n  paymentMethodType paymentMethodProvider   paymentMethodIssuer  \\\n0              card          JCB 16 digit  Citizens First Banks   \n1           bitcoin         VISA 16 digit          Solace Banks   \n2              card         VISA 16 digit        Vertex Bancorp   \n\n   transactionAmount  transactionFailed fraudulent emailProvider emailDomain  \\\n0                 18              False      False         yahoo         com   \n1                 26              False       True         yahoo         com   \n2                 45              False      False         yahoo         com   \n\n   customerIPAddressVersion sameCity  \n0                       4.0      yes  \n1                       4.0       no  \n2                       6.0       no  ",
      "text/html": "<div>\n<style scoped>\n    .dataframe tbody tr th:only-of-type {\n        vertical-align: middle;\n    }\n\n    .dataframe tbody tr th {\n        vertical-align: top;\n    }\n\n    .dataframe thead th {\n        text-align: right;\n    }\n</style>\n<table border=\"1\" class=\"dataframe\">\n  <thead>\n    <tr style=\"text-align: right;\">\n      <th></th>\n      <th>orderAmount</th>\n      <th>orderState</th>\n      <th>paymentMethodRegistrationFailure</th>\n      <th>paymentMethodType</th>\n      <th>paymentMethodProvider</th>\n      <th>paymentMethodIssuer</th>\n      <th>transactionAmount</th>\n      <th>transactionFailed</th>\n      <th>fraudulent</th>\n      <th>emailProvider</th>\n      <th>emailDomain</th>\n      <th>customerIPAddressVersion</th>\n      <th>sameCity</th>\n    </tr>\n  </thead>\n  <tbody>\n    <tr>\n      <th>0</th>\n      <td>(9.999, 18.4]</td>\n      <td>pending</td>\n      <td>True</td>\n      <td>card</td>\n      <td>JCB 16 digit</td>\n      <td>Citizens First Banks</td>\n      <td>18</td>\n      <td>False</td>\n      <td>False</td>\n      <td>yahoo</td>\n      <td>com</td>\n      <td>4.0</td>\n      <td>yes</td>\n    </tr>\n    <tr>\n      <th>1</th>\n      <td>(18.4, 30.0]</td>\n      <td>fulfilled</td>\n      <td>True</td>\n      <td>bitcoin</td>\n      <td>VISA 16 digit</td>\n      <td>Solace Banks</td>\n      <td>26</td>\n      <td>False</td>\n      <td>True</td>\n      <td>yahoo</td>\n      <td>com</td>\n      <td>4.0</td>\n      <td>no</td>\n    </tr>\n    <tr>\n      <th>2</th>\n      <td>(39.0, 47.0]</td>\n      <td>fulfilled</td>\n      <td>False</td>\n      <td>card</td>\n      <td>VISA 16 digit</td>\n      <td>Vertex Bancorp</td>\n      <td>45</td>\n      <td>False</td>\n      <td>False</td>\n      <td>yahoo</td>\n      <td>com</td>\n      <td>6.0</td>\n      <td>no</td>\n    </tr>\n  </tbody>\n</table>\n</div>"
     },
     "execution_count": 9,
     "metadata": {},
     "output_type": "execute_result"
    }
   ],
   "source": [
    "probando.head(3)"
   ],
   "metadata": {
    "collapsed": false,
    "ExecuteTime": {
     "end_time": "2023-06-13T00:06:17.139575134Z",
     "start_time": "2023-06-13T00:06:17.074901185Z"
    }
   }
  },
  {
   "cell_type": "code",
   "execution_count": 10,
   "outputs": [
    {
     "data": {
      "text/plain": "     orderAmount orderState paymentMethodRegistrationFailure  \\\n0  (9.999, 18.4]    pending                             True   \n1   (18.4, 30.0]  fulfilled                             True   \n2   (39.0, 47.0]  fulfilled                            False   \n\n  paymentMethodType paymentMethodProvider   paymentMethodIssuer  \\\n0              card          JCB 16 digit  Citizens First Banks   \n1           bitcoin         VISA 16 digit          Solace Banks   \n2              card         VISA 16 digit        Vertex Bancorp   \n\n  transactionAmount  transactionFailed fraudulent emailProvider emailDomain  \\\n0     (9.999, 21.0]              False      False         yahoo         com   \n1      (21.0, 34.0]              False       True         yahoo         com   \n2      (34.0, 45.0]              False      False         yahoo         com   \n\n   customerIPAddressVersion sameCity  \n0                       4.0      yes  \n1                       4.0       no  \n2                       6.0       no  ",
      "text/html": "<div>\n<style scoped>\n    .dataframe tbody tr th:only-of-type {\n        vertical-align: middle;\n    }\n\n    .dataframe tbody tr th {\n        vertical-align: top;\n    }\n\n    .dataframe thead th {\n        text-align: right;\n    }\n</style>\n<table border=\"1\" class=\"dataframe\">\n  <thead>\n    <tr style=\"text-align: right;\">\n      <th></th>\n      <th>orderAmount</th>\n      <th>orderState</th>\n      <th>paymentMethodRegistrationFailure</th>\n      <th>paymentMethodType</th>\n      <th>paymentMethodProvider</th>\n      <th>paymentMethodIssuer</th>\n      <th>transactionAmount</th>\n      <th>transactionFailed</th>\n      <th>fraudulent</th>\n      <th>emailProvider</th>\n      <th>emailDomain</th>\n      <th>customerIPAddressVersion</th>\n      <th>sameCity</th>\n    </tr>\n  </thead>\n  <tbody>\n    <tr>\n      <th>0</th>\n      <td>(9.999, 18.4]</td>\n      <td>pending</td>\n      <td>True</td>\n      <td>card</td>\n      <td>JCB 16 digit</td>\n      <td>Citizens First Banks</td>\n      <td>(9.999, 21.0]</td>\n      <td>False</td>\n      <td>False</td>\n      <td>yahoo</td>\n      <td>com</td>\n      <td>4.0</td>\n      <td>yes</td>\n    </tr>\n    <tr>\n      <th>1</th>\n      <td>(18.4, 30.0]</td>\n      <td>fulfilled</td>\n      <td>True</td>\n      <td>bitcoin</td>\n      <td>VISA 16 digit</td>\n      <td>Solace Banks</td>\n      <td>(21.0, 34.0]</td>\n      <td>False</td>\n      <td>True</td>\n      <td>yahoo</td>\n      <td>com</td>\n      <td>4.0</td>\n      <td>no</td>\n    </tr>\n    <tr>\n      <th>2</th>\n      <td>(39.0, 47.0]</td>\n      <td>fulfilled</td>\n      <td>False</td>\n      <td>card</td>\n      <td>VISA 16 digit</td>\n      <td>Vertex Bancorp</td>\n      <td>(34.0, 45.0]</td>\n      <td>False</td>\n      <td>False</td>\n      <td>yahoo</td>\n      <td>com</td>\n      <td>6.0</td>\n      <td>no</td>\n    </tr>\n  </tbody>\n</table>\n</div>"
     },
     "execution_count": 10,
     "metadata": {},
     "output_type": "execute_result"
    }
   ],
   "source": [
    "data.head(3)"
   ],
   "metadata": {
    "collapsed": false,
    "ExecuteTime": {
     "end_time": "2023-06-13T00:06:17.139881198Z",
     "start_time": "2023-06-13T00:06:17.115398912Z"
    }
   }
  },
  {
   "cell_type": "markdown",
   "source": [
    "## 2. Preparación de los datos"
   ],
   "metadata": {
    "collapsed": false
   }
  },
  {
   "cell_type": "code",
   "execution_count": 11,
   "outputs": [
    {
     "data": {
      "text/plain": "Her Majesty Trust           43\nVertex Bancorp              37\nFountain Financial Inc.     35\nHis Majesty Bank Corp.      33\nBastion Banks               29\nBulwark Trust Corp.         29\nCitizens First Banks        28\nGrand Credit Corporation    27\nSolace Banks                27\nRose Bancshares             25\nB                            7\ne                            5\nc                            4\nr                            3\n                             2\nn                            2\nx                            2\no                            2\na                            1\np                            1\nName: paymentMethodIssuer, dtype: int64"
     },
     "execution_count": 11,
     "metadata": {},
     "output_type": "execute_result"
    }
   ],
   "source": [
    "data['paymentMethodIssuer'].value_counts()"
   ],
   "metadata": {
    "collapsed": false,
    "ExecuteTime": {
     "end_time": "2023-06-13T00:06:17.156802439Z",
     "start_time": "2023-06-13T00:06:17.156270106Z"
    }
   }
  },
  {
   "cell_type": "code",
   "execution_count": 12,
   "outputs": [],
   "source": [
    "# Reemplazar un valor a la vez\n",
    "weird_payment_method = [\"B\", \"e\", \"c\", \"r\", \" \", \"n\", \"x\", \"o\", \"a\", \"p\"]\n",
    "\n",
    "for payment_method in weird_payment_method:\n",
    "    data['paymentMethodIssuer'] = data['paymentMethodIssuer'].replace(payment_method, 'weird')"
   ],
   "metadata": {
    "collapsed": false,
    "ExecuteTime": {
     "end_time": "2023-06-13T00:06:17.157053075Z",
     "start_time": "2023-06-13T00:06:17.156657499Z"
    }
   }
  },
  {
   "cell_type": "code",
   "execution_count": 13,
   "outputs": [
    {
     "data": {
      "text/plain": "Her Majesty Trust           43\nVertex Bancorp              37\nFountain Financial Inc.     35\nHis Majesty Bank Corp.      33\nBastion Banks               29\nweird                       29\nBulwark Trust Corp.         29\nCitizens First Banks        28\nSolace Banks                27\nGrand Credit Corporation    27\nRose Bancshares             25\nName: paymentMethodIssuer, dtype: int64"
     },
     "execution_count": 13,
     "metadata": {},
     "output_type": "execute_result"
    }
   ],
   "source": [
    "data['paymentMethodIssuer'].value_counts()"
   ],
   "metadata": {
    "collapsed": false,
    "ExecuteTime": {
     "end_time": "2023-06-13T00:06:17.157367855Z",
     "start_time": "2023-06-13T00:06:17.156980142Z"
    }
   }
  },
  {
   "cell_type": "code",
   "execution_count": 13,
   "outputs": [],
   "source": [],
   "metadata": {
    "collapsed": false,
    "ExecuteTime": {
     "end_time": "2023-06-13T00:06:17.157497257Z",
     "start_time": "2023-06-13T00:06:17.157174638Z"
    }
   }
  },
  {
   "cell_type": "code",
   "execution_count": 13,
   "outputs": [],
   "source": [],
   "metadata": {
    "collapsed": false,
    "ExecuteTime": {
     "end_time": "2023-06-13T00:06:17.157632686Z",
     "start_time": "2023-06-13T00:06:17.157277227Z"
    }
   }
  }
 ],
 "metadata": {
  "kernelspec": {
   "display_name": "Python 3",
   "language": "python",
   "name": "python3"
  },
  "language_info": {
   "codemirror_mode": {
    "name": "ipython",
    "version": 2
   },
   "file_extension": ".py",
   "mimetype": "text/x-python",
   "name": "python",
   "nbconvert_exporter": "python",
   "pygments_lexer": "ipython2",
   "version": "2.7.6"
  }
 },
 "nbformat": 4,
 "nbformat_minor": 0
}
